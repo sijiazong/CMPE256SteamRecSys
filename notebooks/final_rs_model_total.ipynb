{
 "cells": [
  {
   "cell_type": "code",
   "execution_count": 440,
   "metadata": {
    "scrolled": true
   },
   "outputs": [],
   "source": [
    "import pandas as pd\n",
    "import numpy as np\n",
    "import time\n",
    "import os.path as path\n",
    "import os, io\n",
    "from ast import literal_eval\n",
    "from itertools import product\n",
    "import matplotlib.pyplot as plt\n",
    "\n",
    "from surprise import BaselineOnly\n",
    "from surprise import Dataset\n",
    "from surprise import Reader\n",
    "from surprise.model_selection.split import train_test_split\n",
    "from surprise.model_selection import cross_validate, GridSearchCV\n",
    "from surprise import KNNBasic, KNNWithMeans\n",
    "from surprise import SVDpp\n",
    "from surprise import SVD\n",
    "from surprise import accuracy"
   ]
  },
  {
   "cell_type": "markdown",
   "metadata": {},
   "source": [
    "## read in preprecessed files"
   ]
  },
  {
   "cell_type": "code",
   "execution_count": 441,
   "metadata": {},
   "outputs": [],
   "source": [
    "\n",
    "ratings_df  = pd.read_csv('../processed_data/ratings.csv')\n",
    "games = pd.read_csv(\"../processed_data/games_metadata.csv\")\n",
    "all_games = pd.read_csv(\"../processed_data/all_games_id_name_pair.csv\")\n",
    "popularity_df  = pd.read_csv('../processed_data/popularity.csv')"
   ]
  },
  {
   "cell_type": "markdown",
   "metadata": {},
   "source": [
    "## KNN model"
   ]
  },
  {
   "cell_type": "code",
   "execution_count": 442,
   "metadata": {},
   "outputs": [],
   "source": [
    "reader = Reader(rating_scale=(1,5))  #invoke reader instance of surprise library\n",
    "data=Dataset.load_from_df(ratings_df,reader) #load dataset into Surprise datastructure Dataset"
   ]
  },
  {
   "cell_type": "markdown",
   "metadata": {},
   "source": [
    "### Fit the model using full data"
   ]
  },
  {
   "cell_type": "code",
   "execution_count": 443,
   "metadata": {},
   "outputs": [],
   "source": [
    "# build training data on full dataset.\n",
    "trainset = data.build_full_trainset()"
   ]
  },
  {
   "cell_type": "code",
   "execution_count": 444,
   "metadata": {},
   "outputs": [],
   "source": [
    "## Best parameter for KNN model \n",
    "\n",
    "sim_options = {\n",
    "    'name': 'pearson', #similarity measure default is MSD\n",
    "    'user_based': False, #user-based CF\n",
    "    'min_support':25\n",
    "}"
   ]
  },
  {
   "cell_type": "code",
   "execution_count": 445,
   "metadata": {},
   "outputs": [
    {
     "name": "stdout",
     "output_type": "stream",
     "text": [
      "Computing the pearson similarity matrix...\n",
      "Done computing similarity matrix.\n"
     ]
    },
    {
     "data": {
      "text/plain": [
       "<surprise.prediction_algorithms.knns.KNNBasic at 0x18c5e46d0>"
      ]
     },
     "execution_count": 445,
     "metadata": {},
     "output_type": "execute_result"
    }
   ],
   "source": [
    "# fit KNN model\n",
    "algo = KNNBasic(sim_options=sim_options,k=10) # number of neighbours = 45\n",
    "algo.fit(trainset) #fit model to the training set"
   ]
  },
  {
   "cell_type": "code",
   "execution_count": 446,
   "metadata": {},
   "outputs": [],
   "source": [
    "# Get list of item ID\n",
    "item_id_list = ratings_df[\"item_id\"].unique()"
   ]
  },
  {
   "cell_type": "markdown",
   "metadata": {},
   "source": [
    "### Recommend using KNN model"
   ]
  },
  {
   "cell_type": "code",
   "execution_count": 447,
   "metadata": {},
   "outputs": [],
   "source": [
    "from collections import defaultdict\n",
    "\n",
    "known_items = user_item_df[user_item_df.user_id == user_id].sort_values(by=\"rating\", ascending=False).item_id.unique()\n",
    "def knnRecommendation(userId, topN = 3):\n",
    "    userRatingList = defaultdict(list)\n",
    "    for itemId in item_id_list:\n",
    "        if itemId not in known_items:\n",
    "            predicted = algo.predict(userId, itemId)\n",
    "            userRatingList[uid].append((itemId,predicted[3]))\n",
    "    userRatingList[uid].sort(key = lambda x:x[1], reverse = True)\n",
    "    \n",
    "    return userRatingList[uid][:topN]"
   ]
  },
  {
   "cell_type": "markdown",
   "metadata": {},
   "source": [
    "## Hybrid Model"
   ]
  },
  {
   "cell_type": "code",
   "execution_count": 448,
   "metadata": {},
   "outputs": [],
   "source": [
    "# pip install lightfm\n",
    "from lightfm import LightFM\n",
    "from lightfm.data import Dataset\n",
    "from lightfm.cross_validation import random_train_test_split\n",
    "from lightfm.evaluation import precision_at_k\n",
    "from lightfm.evaluation import auc_score"
   ]
  },
  {
   "cell_type": "code",
   "execution_count": 449,
   "metadata": {},
   "outputs": [],
   "source": [
    "# Build game features list\n",
    "def build_game_features_list(item_features_cols):\n",
    "    total_features = set()\n",
    "    game_features_list = []\n",
    "    for row in games.itertuples(index=False):\n",
    "        features = set()\n",
    "        for col in item_features_cols:\n",
    "            val = getattr(row, col)\n",
    "            if pd.isnull(val):\n",
    "                continue\n",
    "            if col in {\"genres\", \"tags\", \"specs\", \"bundles\"}:\n",
    "                features.update(literal_eval(val))\n",
    "            else:\n",
    "                features.add(val)\n",
    "        game_features_list.append(list(features))\n",
    "        total_features.update(features)\n",
    "    return game_features_list, list(total_features)"
   ]
  },
  {
   "cell_type": "code",
   "execution_count": 450,
   "metadata": {},
   "outputs": [],
   "source": [
    "def getGameFeaturesData(item_features_cols):\n",
    "    game_features_list, total_features = build_game_features_list(item_features_cols)\n",
    "    game_tuple = list(zip(games.id, game_features_list))\n",
    "    return (total_features, game_tuple)"
   ]
  },
  {
   "cell_type": "code",
   "execution_count": 451,
   "metadata": {},
   "outputs": [],
   "source": [
    "# Features1(['genres'])\n",
    "item_features_cols = ['genres']\n",
    "total_features, game_tuple = getGameFeaturesData(item_features_cols)"
   ]
  },
  {
   "cell_type": "code",
   "execution_count": 452,
   "metadata": {},
   "outputs": [],
   "source": [
    "dataset = Dataset()\n",
    "dataset.fit(user_item_df['user_id'].unique(), # all the steam users\n",
    "            all_games[\"item_id\"], # all steam games\n",
    "            item_features=total_features)"
   ]
  },
  {
   "cell_type": "code",
   "execution_count": 453,
   "metadata": {},
   "outputs": [],
   "source": [
    "item_features = dataset.build_item_features(game_tuple)"
   ]
  },
  {
   "cell_type": "code",
   "execution_count": 454,
   "metadata": {},
   "outputs": [],
   "source": [
    "(interactions, weights) = dataset1.build_interactions([(x[0], x[1]) for x in user_item_df.values])"
   ]
  },
  {
   "cell_type": "code",
   "execution_count": 455,
   "metadata": {},
   "outputs": [],
   "source": [
    "# best parameters for hybrid model\n",
    "best_paramaters = {'no_components': 50, 'loss': 'warp', 'random_state': 1, 'learning_rate': 0.11}"
   ]
  },
  {
   "cell_type": "code",
   "execution_count": 456,
   "metadata": {},
   "outputs": [],
   "source": [
    "best_model = LightFM(**best_paramaters)"
   ]
  },
  {
   "cell_type": "code",
   "execution_count": 457,
   "metadata": {},
   "outputs": [
    {
     "data": {
      "text/plain": [
       "<lightfm.lightfm.LightFM at 0x5b60aa550>"
      ]
     },
     "execution_count": 457,
     "metadata": {},
     "output_type": "execute_result"
    }
   ],
   "source": [
    "best_model.fit(interactions,\n",
    "          item_features=item_features,\n",
    "          epochs=5)"
   ]
  },
  {
   "cell_type": "markdown",
   "metadata": {},
   "source": [
    "### Recommend using Hybrid model"
   ]
  },
  {
   "cell_type": "code",
   "execution_count": 458,
   "metadata": {},
   "outputs": [],
   "source": [
    "# mappings: (user id map, user feature map, item id map, item feature map)\n",
    "mapping = dataset.mapping()"
   ]
  },
  {
   "cell_type": "code",
   "execution_count": 459,
   "metadata": {
    "scrolled": true
   },
   "outputs": [],
   "source": [
    "# series used to use index(internal id) to locate the real id\n",
    "user_series = pd.Series(mapping[0])\n",
    "item_series = pd.Series(mapping[2])"
   ]
  },
  {
   "cell_type": "code",
   "execution_count": 460,
   "metadata": {},
   "outputs": [],
   "source": [
    "def getInternalId(real_id, series):\n",
    "    return series[real_id]"
   ]
  },
  {
   "cell_type": "code",
   "execution_count": 461,
   "metadata": {
    "scrolled": false
   },
   "outputs": [],
   "source": [
    "def getRawId(internal_id, series):\n",
    "    return series[series == internal_id].index[0]"
   ]
  },
  {
   "cell_type": "code",
   "execution_count": 462,
   "metadata": {},
   "outputs": [],
   "source": [
    "#Make recommendations\n",
    "def hybridRecommendataions(user_id, topK = 3):\n",
    "    print(user_id)\n",
    "    n_users, n_items = interactions.shape\n",
    "    internal_user_id = getInternalId(user_id, user_series)\n",
    "    all_scores = pd.Series(best_model.predict(internal_user_id, np.arange(n_items)))\n",
    "    all_ranks = list(pd.Series(all_scores.sort_values(ascending=False).index))\n",
    "    known_items = user_item_df[user_item_df.user_id == user_id].sort_values(by=\"rating\", ascending=False).item_id\n",
    "    known_items_internal_ids = known_items.apply(getInternalId, args=(item_series,))\n",
    "    unknown_ranks = [x for x in all_ranks if x not in known_items_internal_ids]\n",
    "    recommended_list = unknown_ranks[0:10]\n",
    "    recommended_list_ids = [getRawId(id, item_series) for id in recommended_list]\n",
    "    known_items_names = all_games.loc[all_games['item_id'].isin(known_items[:10])]\n",
    "    recommended_items_names = all_games.loc[all_games['item_id'].isin(recommended_list_ids)]\n",
    "    return recommended_items_names"
   ]
  },
  {
   "cell_type": "markdown",
   "metadata": {},
   "source": [
    "## Popularity model   (for new users) \n",
    "The popularity model is used when a new user added into the system and no user-item interaction exists for the user.\n",
    "The popularity ratings are  based on the number of a game's player on steam "
   ]
  },
  {
   "cell_type": "code",
   "execution_count": 465,
   "metadata": {},
   "outputs": [],
   "source": [
    "### use poplarity ratings loaded from popularity.csv in the begining of notebook\n",
    "def popRecommendataions(topK = 3):\n",
    "    popular_list = []\n",
    "    for game in popularity_df[\"item_id\"].head(topK):\n",
    "        popular_list.append(all_games[all_games[\"item_id\"] == game][\"item_name\"].values[0])\n",
    "    return popular_list"
   ]
  },
  {
   "cell_type": "code",
   "execution_count": 466,
   "metadata": {},
   "outputs": [
    {
     "data": {
      "text/plain": [
       "['Counter-Strike: Global Offensive', \"Garry's Mod\", 'Left 4 Dead 2']"
      ]
     },
     "execution_count": 466,
     "metadata": {},
     "output_type": "execute_result"
    }
   ],
   "source": [
    "popRecommendataions(3)"
   ]
  },
  {
   "cell_type": "markdown",
   "metadata": {},
   "source": [
    "### Final model \n",
    "Use both KNN and hybrid model for recommendation"
   ]
  },
  {
   "cell_type": "code",
   "execution_count": 467,
   "metadata": {},
   "outputs": [],
   "source": [
    "user_id_list = ratings_df[\"user_id\"].unique()\n",
    "\n",
    "def final_model_rs(user_id, topK = 3): \n",
    "    if user_id not in user_id_list:\n",
    "        return popRecommendataions(topK)\n",
    "    \n",
    "    final_list = []\n",
    "    knn_rs_list = knnRecommendation(user_id, topK)\n",
    "    knn_rs_df= pd.DataFrame(knn_rs_list, columns = [\"item_id\", \"ratings\"])\n",
    "    hybrid_rs_df = hybridRecommendataions(user_id, topK)\n",
    "    hybrid_rs_series = hybrid_rs_df[\"item_id\"]\n",
    "    knn_rs_series = knn_rs_df[\"item_id\"]\n",
    "    common_rs_games = pd.Series(list(set(knn_rs_series).intersection(set(hybrid_rs_series))))\n",
    "    for game in common_rs_games:\n",
    "        final_list.append(game)\n",
    "    rs_left = topK - common_rs_games.size\n",
    "    for game in knn_rs_series[:int((rs_left + 1)/2)]:\n",
    "        final_list.append(game)\n",
    "    for game in hybrid_rs_series[:int(rs_left/2)]:\n",
    "        final_list.append(game)\n",
    "    \n",
    "    game_list = []\n",
    "    for game in final_list:\n",
    "        game_list.append(all_games[all_games[\"item_id\"] == game][\"item_name\"].values[0])\n",
    "    return game_list\n",
    "    "
   ]
  },
  {
   "cell_type": "code",
   "execution_count": 469,
   "metadata": {},
   "outputs": [
    {
     "name": "stdout",
     "output_type": "stream",
     "text": [
      "76561197970982479\n"
     ]
    },
    {
     "name": "stderr",
     "output_type": "stream",
     "text": [
      "<ipython-input-467-4fc0c88d4396>:13: DeprecationWarning: The default dtype for empty Series will be 'object' instead of 'float64' in a future version. Specify a dtype explicitly to silence this warning.\n",
      "  common_rs_games = pd.Series(list(set(knn_rs_series).intersection(set(hybrid_rs_series))))\n"
     ]
    },
    {
     "data": {
      "text/plain": [
       "['Corpse Party', 'The Black Death', 'Sanctum']"
      ]
     },
     "execution_count": 469,
     "metadata": {},
     "output_type": "execute_result"
    }
   ],
   "source": [
    "## Example for recommendation\n",
    "final_model_rs('76561197970982479')"
   ]
  },
  {
   "cell_type": "code",
   "execution_count": null,
   "metadata": {},
   "outputs": [],
   "source": []
  }
 ],
 "metadata": {
  "kernelspec": {
   "display_name": "Python 3",
   "language": "python",
   "name": "python3"
  },
  "language_info": {
   "codemirror_mode": {
    "name": "ipython",
    "version": 3
   },
   "file_extension": ".py",
   "mimetype": "text/x-python",
   "name": "python",
   "nbconvert_exporter": "python",
   "pygments_lexer": "ipython3",
   "version": "3.8.3"
  }
 },
 "nbformat": 4,
 "nbformat_minor": 4
}
