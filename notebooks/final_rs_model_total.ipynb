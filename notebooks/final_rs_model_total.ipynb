{
 "cells": [
  {
   "cell_type": "code",
   "execution_count": 336,
   "metadata": {
    "scrolled": true
   },
   "outputs": [],
   "source": [
    "import pandas as pd\n",
    "import numpy as np\n",
    "import time\n",
    "import os.path as path\n",
    "from ast import literal_eval\n",
    "from itertools import product\n",
    "import matplotlib.pyplot as plt\n",
    "\n",
    "from surprise import BaselineOnly\n",
    "from surprise import Dataset\n",
    "from surprise import Reader\n",
    "from surprise.model_selection.split import train_test_split\n",
    "from surprise.model_selection import cross_validate, GridSearchCV\n",
    "import pandas as pd\n",
    "import numpy as np\n",
    "import os, io\n",
    "from surprise import KNNBasic, KNNWithMeans\n",
    "from surprise import SVDpp\n",
    "from surprise import SVD\n",
    "from surprise import accuracy"
   ]
  },
  {
   "cell_type": "markdown",
   "metadata": {},
   "source": [
    "## KNN model"
   ]
  },
  {
   "cell_type": "code",
   "execution_count": 337,
   "metadata": {
    "scrolled": true
   },
   "outputs": [],
   "source": [
    "## read in json files \n",
    "ratings_df  = pd.read_csv('../processed_data/ratings.csv')"
   ]
  },
  {
   "cell_type": "code",
   "execution_count": 338,
   "metadata": {},
   "outputs": [],
   "source": [
    "reader = Reader(rating_scale=(1,5))  #invoke reader instance of surprise library\n",
    "data=Dataset.load_from_df(ratings_df,reader) #load dataset into Surprise datastructure Dataset"
   ]
  },
  {
   "cell_type": "code",
   "execution_count": 339,
   "metadata": {},
   "outputs": [
    {
     "data": {
      "text/html": [
       "<div>\n",
       "<style scoped>\n",
       "    .dataframe tbody tr th:only-of-type {\n",
       "        vertical-align: middle;\n",
       "    }\n",
       "\n",
       "    .dataframe tbody tr th {\n",
       "        vertical-align: top;\n",
       "    }\n",
       "\n",
       "    .dataframe thead th {\n",
       "        text-align: right;\n",
       "    }\n",
       "</style>\n",
       "<table border=\"1\" class=\"dataframe\">\n",
       "  <thead>\n",
       "    <tr style=\"text-align: right;\">\n",
       "      <th></th>\n",
       "      <th>user_id</th>\n",
       "      <th>item_id</th>\n",
       "      <th>rating</th>\n",
       "    </tr>\n",
       "  </thead>\n",
       "  <tbody>\n",
       "    <tr>\n",
       "      <th>0</th>\n",
       "      <td>76561197970982479</td>\n",
       "      <td>10</td>\n",
       "      <td>1</td>\n",
       "    </tr>\n",
       "    <tr>\n",
       "      <th>1</th>\n",
       "      <td>76561197970982479</td>\n",
       "      <td>20</td>\n",
       "      <td>1</td>\n",
       "    </tr>\n",
       "    <tr>\n",
       "      <th>2</th>\n",
       "      <td>76561197970982479</td>\n",
       "      <td>30</td>\n",
       "      <td>1</td>\n",
       "    </tr>\n",
       "    <tr>\n",
       "      <th>3</th>\n",
       "      <td>76561197970982479</td>\n",
       "      <td>40</td>\n",
       "      <td>1</td>\n",
       "    </tr>\n",
       "    <tr>\n",
       "      <th>4</th>\n",
       "      <td>76561197970982479</td>\n",
       "      <td>50</td>\n",
       "      <td>1</td>\n",
       "    </tr>\n",
       "    <tr>\n",
       "      <th>...</th>\n",
       "      <td>...</td>\n",
       "      <td>...</td>\n",
       "      <td>...</td>\n",
       "    </tr>\n",
       "    <tr>\n",
       "      <th>5035430</th>\n",
       "      <td>76561198329548331</td>\n",
       "      <td>346330</td>\n",
       "      <td>1</td>\n",
       "    </tr>\n",
       "    <tr>\n",
       "      <th>5035431</th>\n",
       "      <td>76561198329548331</td>\n",
       "      <td>373330</td>\n",
       "      <td>1</td>\n",
       "    </tr>\n",
       "    <tr>\n",
       "      <th>5035432</th>\n",
       "      <td>76561198329548331</td>\n",
       "      <td>388490</td>\n",
       "      <td>1</td>\n",
       "    </tr>\n",
       "    <tr>\n",
       "      <th>5035433</th>\n",
       "      <td>76561198329548331</td>\n",
       "      <td>521570</td>\n",
       "      <td>1</td>\n",
       "    </tr>\n",
       "    <tr>\n",
       "      <th>5035434</th>\n",
       "      <td>76561198329548331</td>\n",
       "      <td>519140</td>\n",
       "      <td>1</td>\n",
       "    </tr>\n",
       "  </tbody>\n",
       "</table>\n",
       "<p>5035435 rows × 3 columns</p>\n",
       "</div>"
      ],
      "text/plain": [
       "                   user_id  item_id  rating\n",
       "0        76561197970982479       10       1\n",
       "1        76561197970982479       20       1\n",
       "2        76561197970982479       30       1\n",
       "3        76561197970982479       40       1\n",
       "4        76561197970982479       50       1\n",
       "...                    ...      ...     ...\n",
       "5035430  76561198329548331   346330       1\n",
       "5035431  76561198329548331   373330       1\n",
       "5035432  76561198329548331   388490       1\n",
       "5035433  76561198329548331   521570       1\n",
       "5035434  76561198329548331   519140       1\n",
       "\n",
       "[5035435 rows x 3 columns]"
      ]
     },
     "execution_count": 339,
     "metadata": {},
     "output_type": "execute_result"
    }
   ],
   "source": [
    "ratings_df.drop_duplicates()"
   ]
  },
  {
   "cell_type": "code",
   "execution_count": 340,
   "metadata": {},
   "outputs": [
    {
     "data": {
      "text/html": [
       "<div>\n",
       "<style scoped>\n",
       "    .dataframe tbody tr th:only-of-type {\n",
       "        vertical-align: middle;\n",
       "    }\n",
       "\n",
       "    .dataframe tbody tr th {\n",
       "        vertical-align: top;\n",
       "    }\n",
       "\n",
       "    .dataframe thead th {\n",
       "        text-align: right;\n",
       "    }\n",
       "</style>\n",
       "<table border=\"1\" class=\"dataframe\">\n",
       "  <thead>\n",
       "    <tr style=\"text-align: right;\">\n",
       "      <th></th>\n",
       "      <th>user_id</th>\n",
       "      <th>item_id</th>\n",
       "      <th>rating</th>\n",
       "    </tr>\n",
       "  </thead>\n",
       "  <tbody>\n",
       "    <tr>\n",
       "      <th>0</th>\n",
       "      <td>76561197970982479</td>\n",
       "      <td>10</td>\n",
       "      <td>1</td>\n",
       "    </tr>\n",
       "    <tr>\n",
       "      <th>1</th>\n",
       "      <td>76561197970982479</td>\n",
       "      <td>20</td>\n",
       "      <td>1</td>\n",
       "    </tr>\n",
       "    <tr>\n",
       "      <th>2</th>\n",
       "      <td>76561197970982479</td>\n",
       "      <td>30</td>\n",
       "      <td>1</td>\n",
       "    </tr>\n",
       "    <tr>\n",
       "      <th>3</th>\n",
       "      <td>76561197970982479</td>\n",
       "      <td>40</td>\n",
       "      <td>1</td>\n",
       "    </tr>\n",
       "    <tr>\n",
       "      <th>4</th>\n",
       "      <td>76561197970982479</td>\n",
       "      <td>50</td>\n",
       "      <td>1</td>\n",
       "    </tr>\n",
       "  </tbody>\n",
       "</table>\n",
       "</div>"
      ],
      "text/plain": [
       "             user_id  item_id  rating\n",
       "0  76561197970982479       10       1\n",
       "1  76561197970982479       20       1\n",
       "2  76561197970982479       30       1\n",
       "3  76561197970982479       40       1\n",
       "4  76561197970982479       50       1"
      ]
     },
     "execution_count": 340,
     "metadata": {},
     "output_type": "execute_result"
    }
   ],
   "source": [
    "ratings_df.head()"
   ]
  },
  {
   "cell_type": "markdown",
   "metadata": {},
   "source": [
    "### Fit the model using full data"
   ]
  },
  {
   "cell_type": "code",
   "execution_count": 341,
   "metadata": {},
   "outputs": [],
   "source": [
    "# build training data on full dataset.\n",
    "trainset = data.build_full_trainset()"
   ]
  },
  {
   "cell_type": "code",
   "execution_count": 342,
   "metadata": {},
   "outputs": [],
   "source": [
    "## Best parameter for KNN model \n",
    "\n",
    "sim_options = {\n",
    "    'name': 'pearson', #similarity measure default is MSD\n",
    "    'user_based': False, #user-based CF\n",
    "    'min_support':25\n",
    "}"
   ]
  },
  {
   "cell_type": "code",
   "execution_count": 343,
   "metadata": {},
   "outputs": [
    {
     "name": "stdout",
     "output_type": "stream",
     "text": [
      "Computing the pearson similarity matrix...\n",
      "Done computing similarity matrix.\n"
     ]
    },
    {
     "data": {
      "text/plain": [
       "<surprise.prediction_algorithms.knns.KNNBasic at 0x18e13eca0>"
      ]
     },
     "execution_count": 343,
     "metadata": {},
     "output_type": "execute_result"
    }
   ],
   "source": [
    "#KNN\n",
    "algo = KNNBasic(sim_options=sim_options,k=10) # number of neighbours = 45\n",
    "algo.fit(trainset) #fit model to the training set"
   ]
  },
  {
   "cell_type": "code",
   "execution_count": 344,
   "metadata": {},
   "outputs": [],
   "source": [
    "# Get list of item ID\n",
    "item_id_list = ratings_df[\"item_id\"].unique()"
   ]
  },
  {
   "cell_type": "code",
   "execution_count": 345,
   "metadata": {},
   "outputs": [
    {
     "data": {
      "text/plain": [
       "array([    10,     20,     30, ..., 354280, 433920, 485270])"
      ]
     },
     "execution_count": 345,
     "metadata": {},
     "output_type": "execute_result"
    }
   ],
   "source": [
    "item_id_list"
   ]
  },
  {
   "cell_type": "code",
   "execution_count": 346,
   "metadata": {},
   "outputs": [
    {
     "data": {
      "text/plain": [
       "Prediction(uid='js41637', iid='10', r_ui=None, est=1.9174700894758845, details={'was_impossible': True, 'reason': 'User and/or item is unknown.'})"
      ]
     },
     "execution_count": 346,
     "metadata": {},
     "output_type": "execute_result"
    }
   ],
   "source": [
    "## test algo predict\n",
    "algo.predict('js41637',\"10\")"
   ]
  },
  {
   "cell_type": "markdown",
   "metadata": {},
   "source": [
    "### Recommend using KNN"
   ]
  },
  {
   "cell_type": "code",
   "execution_count": 347,
   "metadata": {},
   "outputs": [],
   "source": [
    "from collections import defaultdict\n",
    "\n",
    "known_items = user_item_df[user_item_df.user_id == user_id].sort_values(by=\"rating\", ascending=False).item_id.unique()\n",
    "def knnRecommendation(userId, topN = 3):\n",
    "    userRatingList = defaultdict(list)\n",
    "    for itemId in item_id_list:\n",
    "        if itemId not in known_items:\n",
    "            predicted = algo.predict(userId, itemId)\n",
    "            userRatingList[uid].append((itemId,predicted[3]))\n",
    "    userRatingList[uid].sort(key = lambda x:x[1], reverse = True)\n",
    "    \n",
    "    return userRatingList[uid][:topN]"
   ]
  },
  {
   "cell_type": "code",
   "execution_count": 348,
   "metadata": {},
   "outputs": [
    {
     "data": {
      "text/plain": [
       "[(412450, 4.0), (322680, 4.0), (409590, 4.0)]"
      ]
     },
     "execution_count": 348,
     "metadata": {},
     "output_type": "execute_result"
    }
   ],
   "source": [
    "knnRecommendation('js41637')"
   ]
  },
  {
   "cell_type": "markdown",
   "metadata": {},
   "source": [
    "## Hybrid Model"
   ]
  },
  {
   "cell_type": "markdown",
   "metadata": {},
   "source": [
    "### Prepare datasets(user_item_ratings, game_metadata, game_id_name_pairs)"
   ]
  },
  {
   "cell_type": "code",
   "execution_count": 349,
   "metadata": {},
   "outputs": [],
   "source": [
    "# pip install lightfm\n",
    "from lightfm import LightFM\n",
    "from lightfm.data import Dataset\n",
    "from lightfm.cross_validation import random_train_test_split\n",
    "from lightfm.evaluation import precision_at_k\n",
    "from lightfm.evaluation import auc_score"
   ]
  },
  {
   "cell_type": "code",
   "execution_count": 350,
   "metadata": {},
   "outputs": [],
   "source": [
    "user_item_df = pd.read_csv(\"../processed_data/ratings.csv\")"
   ]
  },
  {
   "cell_type": "code",
   "execution_count": 351,
   "metadata": {},
   "outputs": [
    {
     "name": "stdout",
     "output_type": "stream",
     "text": [
      "There are 70329 unique users and 10974 unique items in user item ratings\n"
     ]
    }
   ],
   "source": [
    "print(\"There are {} unique users and {} unique items in user item ratings\".format(user_item_df.user_id.nunique(), user_item_df.item_id.nunique()))"
   ]
  },
  {
   "cell_type": "code",
   "execution_count": 352,
   "metadata": {},
   "outputs": [],
   "source": [
    "games = pd.read_csv(\"../processed_data/games_metadata.csv\")"
   ]
  },
  {
   "cell_type": "code",
   "execution_count": 353,
   "metadata": {},
   "outputs": [],
   "source": [
    "# creating output format\n",
    "\n",
    "all_games = pd.read_csv(\"../processed_data/all_games_id_name_pair.csv\")"
   ]
  },
  {
   "cell_type": "code",
   "execution_count": 354,
   "metadata": {},
   "outputs": [
    {
     "data": {
      "text/plain": [
       "10974"
      ]
     },
     "execution_count": 354,
     "metadata": {},
     "output_type": "execute_result"
    }
   ],
   "source": [
    "user_item_df.item_id.nunique()"
   ]
  },
  {
   "cell_type": "markdown",
   "metadata": {},
   "source": [
    "### Re-evaluate and training the best model\n",
    "Mean average precision(MAP)@K and AUC score for train and test"
   ]
  },
  {
   "cell_type": "code",
   "execution_count": 355,
   "metadata": {},
   "outputs": [],
   "source": [
    "def build_game_features_list(item_features_cols):\n",
    "    total_features = set()\n",
    "    game_features_list = []\n",
    "    for row in games.itertuples(index=False):\n",
    "        features = set()\n",
    "        for col in item_features_cols:\n",
    "            val = getattr(row, col)\n",
    "            if pd.isnull(val):\n",
    "                continue\n",
    "            if col in {\"genres\", \"tags\", \"specs\", \"bundles\"}:\n",
    "                features.update(literal_eval(val))\n",
    "            else:\n",
    "                features.add(val)\n",
    "        game_features_list.append(list(features))\n",
    "        total_features.update(features)\n",
    "    return game_features_list, list(total_features)"
   ]
  },
  {
   "cell_type": "code",
   "execution_count": 356,
   "metadata": {},
   "outputs": [],
   "source": [
    "def getGameFeaturesData(item_features_cols):\n",
    "    game_features_list, total_features = build_game_features_list(item_features_cols)\n",
    "    game_tuple = list(zip(games.id, game_features_list))\n",
    "    return (total_features, game_tuple)"
   ]
  },
  {
   "cell_type": "code",
   "execution_count": 357,
   "metadata": {},
   "outputs": [
    {
     "data": {
      "text/plain": [
       "22"
      ]
     },
     "execution_count": 357,
     "metadata": {},
     "output_type": "execute_result"
    }
   ],
   "source": [
    "# Features1(['genres'])\n",
    "item_features_cols1 = ['genres']\n",
    "total_features1, game_tuple1 = getGameFeaturesData(item_features_cols1)\n",
    "len(total_features1)"
   ]
  },
  {
   "cell_type": "code",
   "execution_count": 358,
   "metadata": {},
   "outputs": [],
   "source": [
    "dataset1 = Dataset()\n",
    "dataset1.fit(user_item_df['user_id'].unique(), # all the steam users\n",
    "            all_games[\"item_id\"], # all steam games\n",
    "            item_features=total_features1)"
   ]
  },
  {
   "cell_type": "code",
   "execution_count": 359,
   "metadata": {},
   "outputs": [],
   "source": [
    "item_features1 = dataset1.build_item_features(game_tuple1)"
   ]
  },
  {
   "cell_type": "code",
   "execution_count": 360,
   "metadata": {},
   "outputs": [],
   "source": [
    "(interactions1, weights1) = dataset1.build_interactions([(x[0], x[1]) for x in user_item_df.values])\n",
    "item_features = item_features1"
   ]
  },
  {
   "cell_type": "code",
   "execution_count": 361,
   "metadata": {},
   "outputs": [],
   "source": [
    "# data for best model \n",
    "interactions=interactions1\n"
   ]
  },
  {
   "cell_type": "code",
   "execution_count": 362,
   "metadata": {},
   "outputs": [],
   "source": [
    "# best parameters for the model\n",
    "best_paramaters = {'no_components': 50, 'loss': 'warp', 'random_state': 1, 'learning_rate': 0.11}"
   ]
  },
  {
   "cell_type": "code",
   "execution_count": 363,
   "metadata": {},
   "outputs": [],
   "source": [
    "best_model = LightFM(**best_paramaters)"
   ]
  },
  {
   "cell_type": "code",
   "execution_count": 364,
   "metadata": {},
   "outputs": [
    {
     "data": {
      "text/plain": [
       "<lightfm.lightfm.LightFM at 0x18e13e910>"
      ]
     },
     "execution_count": 364,
     "metadata": {},
     "output_type": "execute_result"
    }
   ],
   "source": [
    "best_model.fit(interactions,\n",
    "          item_features=item_features,\n",
    "          epochs=5)"
   ]
  },
  {
   "cell_type": "markdown",
   "metadata": {},
   "source": [
    "### Recommend using Hybrid model"
   ]
  },
  {
   "cell_type": "code",
   "execution_count": 375,
   "metadata": {},
   "outputs": [],
   "source": [
    "# set the dataset to the final model dataset\n",
    "dataset = dataset1"
   ]
  },
  {
   "cell_type": "code",
   "execution_count": 376,
   "metadata": {},
   "outputs": [],
   "source": [
    "# mappings: (user id map, user feature map, item id map, item feature map)\n",
    "mapping = dataset.mapping()"
   ]
  },
  {
   "cell_type": "code",
   "execution_count": 387,
   "metadata": {
    "scrolled": true
   },
   "outputs": [],
   "source": [
    "# series used to use index(internal id) to locate the real id\n",
    "user_series = pd.Series(mapping[0])\n",
    "item_series = pd.Series(mapping[2])"
   ]
  },
  {
   "cell_type": "code",
   "execution_count": 388,
   "metadata": {},
   "outputs": [],
   "source": [
    "def getInternalId(real_id, series):\n",
    "    return series[real_id]"
   ]
  },
  {
   "cell_type": "code",
   "execution_count": 389,
   "metadata": {
    "scrolled": false
   },
   "outputs": [],
   "source": [
    "def getRawId(internal_id, series):\n",
    "    return series[series == internal_id].index[0]"
   ]
  },
  {
   "cell_type": "markdown",
   "metadata": {},
   "source": [
    "- Make recommendations"
   ]
  },
  {
   "cell_type": "code",
   "execution_count": 390,
   "metadata": {},
   "outputs": [],
   "source": [
    "def hybridRecommendataions(user_id, topK = 3):\n",
    "    print(user_id)\n",
    "    n_users, n_items = interactions.shape\n",
    "    internal_user_id = getInternalId(user_id, user_series)\n",
    "    all_scores = pd.Series(best_model.predict(internal_user_id, np.arange(n_items)))\n",
    "    all_ranks = list(pd.Series(all_scores.sort_values(ascending=False).index))\n",
    "    known_items = user_item_df[user_item_df.user_id == user_id].sort_values(by=\"rating\", ascending=False).item_id\n",
    "    known_items_internal_ids = known_items.apply(getInternalId, args=(item_series,))\n",
    "    unknown_ranks = [x for x in all_ranks if x not in known_items_internal_ids]\n",
    "    recommended_list = unknown_ranks[0:10]\n",
    "    recommended_list_ids = [getRawId(id, item_series) for id in recommended_list]\n",
    "    known_items_names = all_games.loc[all_games['item_id'].isin(known_items[:10])]\n",
    "    recommended_items_names = all_games.loc[all_games['item_id'].isin(recommended_list_ids)]\n",
    "#     print(\"Known items:\")\n",
    "#     print(known_items_names)\n",
    "#     print(\"Recommended items:\")\n",
    "#     print(recommended_items_names)\n",
    "    return recommended_items_names"
   ]
  },
  {
   "cell_type": "markdown",
   "metadata": {},
   "source": [
    "### Final model \n",
    "Use both KNN and hybrid model for recommendation"
   ]
  },
  {
   "cell_type": "code",
   "execution_count": 391,
   "metadata": {},
   "outputs": [],
   "source": [
    "def final_model_rs(user_id, topK = 5):\n",
    "    \n",
    "    final_list = []\n",
    "    knn_rs_list = knnRecommendation(user_id, topK)\n",
    "    knn_rs_df= pd.DataFrame(knn_rs_list, columns = [\"item_id\", \"ratings\"])\n",
    "    hybrid_rs_df = hybridRecommendataions(user_id, topK)\n",
    "    hybrid_rs_series = hybrid_rs_df[\"item_id\"]\n",
    "    knn_rs_series = knn_rs_df[\"item_id\"]\n",
    "    common_rs_games = pd.Series(list(set(knn_rs_series).intersection(set(hybrid_rs_series))))\n",
    "    for game in common_rs_games:\n",
    "        final_list.append(game)\n",
    "    rs_left = topK - common_rs_games.size\n",
    "    for game in knn_rs_series[:int((rs_left + 1)/2)]:\n",
    "        final_list.append(game)\n",
    "    for game in hybrid_rs_series[:int(rs_left/2)]:\n",
    "        final_list.append(game)\n",
    "    \n",
    "    game_list = []\n",
    "    for game in final_list:\n",
    "        game_list.append(all_games[all_games[\"item_id\"] == game][\"item_name\"].values[0])\n",
    "    return game_list\n",
    "    "
   ]
  },
  {
   "cell_type": "code",
   "execution_count": 392,
   "metadata": {},
   "outputs": [
    {
     "name": "stdout",
     "output_type": "stream",
     "text": [
      "js41637\n"
     ]
    },
    {
     "name": "stderr",
     "output_type": "stream",
     "text": [
      "<ipython-input-391-2450d1c4a10d>:9: DeprecationWarning: The default dtype for empty Series will be 'object' instead of 'float64' in a future version. Specify a dtype explicitly to silence this warning.\n",
      "  common_rs_games = pd.Series(list(set(knn_rs_series).intersection(set(hybrid_rs_series))))\n"
     ]
    },
    {
     "data": {
      "text/plain": [
       "['The Black Death',\n",
       " 'BLACKHOLE',\n",
       " 'Kingdoms',\n",
       " 'Terraria',\n",
       " 'The Binding of Isaac']"
      ]
     },
     "execution_count": 392,
     "metadata": {},
     "output_type": "execute_result"
    }
   ],
   "source": [
    "final_model_rs(\"js41637\")"
   ]
  },
  {
   "cell_type": "markdown",
   "metadata": {},
   "source": [
    "### Popularity model   (for new users)"
   ]
  },
  {
   "cell_type": "code",
   "execution_count": 393,
   "metadata": {},
   "outputs": [],
   "source": [
    "popularity_df  = pd.read_csv('../processed_data/popularity.csv')"
   ]
  },
  {
   "cell_type": "code",
   "execution_count": 394,
   "metadata": {},
   "outputs": [
    {
     "data": {
      "text/html": [
       "<div>\n",
       "<style scoped>\n",
       "    .dataframe tbody tr th:only-of-type {\n",
       "        vertical-align: middle;\n",
       "    }\n",
       "\n",
       "    .dataframe tbody tr th {\n",
       "        vertical-align: top;\n",
       "    }\n",
       "\n",
       "    .dataframe thead th {\n",
       "        text-align: right;\n",
       "    }\n",
       "</style>\n",
       "<table border=\"1\" class=\"dataframe\">\n",
       "  <thead>\n",
       "    <tr style=\"text-align: right;\">\n",
       "      <th></th>\n",
       "      <th>item_id</th>\n",
       "      <th>popularity</th>\n",
       "    </tr>\n",
       "  </thead>\n",
       "  <tbody>\n",
       "    <tr>\n",
       "      <th>0</th>\n",
       "      <td>730</td>\n",
       "      <td>43279</td>\n",
       "    </tr>\n",
       "    <tr>\n",
       "      <th>1</th>\n",
       "      <td>4000</td>\n",
       "      <td>42074</td>\n",
       "    </tr>\n",
       "    <tr>\n",
       "      <th>2</th>\n",
       "      <td>550</td>\n",
       "      <td>34899</td>\n",
       "    </tr>\n",
       "    <tr>\n",
       "      <th>3</th>\n",
       "      <td>304930</td>\n",
       "      <td>34465</td>\n",
       "    </tr>\n",
       "    <tr>\n",
       "      <th>4</th>\n",
       "      <td>105600</td>\n",
       "      <td>28541</td>\n",
       "    </tr>\n",
       "  </tbody>\n",
       "</table>\n",
       "</div>"
      ],
      "text/plain": [
       "   item_id  popularity\n",
       "0      730       43279\n",
       "1     4000       42074\n",
       "2      550       34899\n",
       "3   304930       34465\n",
       "4   105600       28541"
      ]
     },
     "execution_count": 394,
     "metadata": {},
     "output_type": "execute_result"
    }
   ],
   "source": [
    "popularity_df.head()"
   ]
  },
  {
   "cell_type": "code",
   "execution_count": 395,
   "metadata": {},
   "outputs": [],
   "source": [
    "def rec_popularity(topK = 10):\n",
    "    popular_list = []\n",
    "    for game in popularity_df[\"item_id\"].head(topK):\n",
    "        popular_list.append(all_games[all_games[\"item_id\"] == game][\"item_name\"].values[0])\n",
    "    return popular_list"
   ]
  },
  {
   "cell_type": "code",
   "execution_count": 396,
   "metadata": {},
   "outputs": [
    {
     "data": {
      "text/plain": [
       "['Counter-Strike: Global Offensive', \"Garry's Mod\", 'Left 4 Dead 2']"
      ]
     },
     "execution_count": 396,
     "metadata": {},
     "output_type": "execute_result"
    }
   ],
   "source": [
    "rec_popularity(3)"
   ]
  }
 ],
 "metadata": {
  "kernelspec": {
   "display_name": "Python 3",
   "language": "python",
   "name": "python3"
  },
  "language_info": {
   "codemirror_mode": {
    "name": "ipython",
    "version": 3
   },
   "file_extension": ".py",
   "mimetype": "text/x-python",
   "name": "python",
   "nbconvert_exporter": "python",
   "pygments_lexer": "ipython3",
   "version": "3.8.3"
  }
 },
 "nbformat": 4,
 "nbformat_minor": 4
}
