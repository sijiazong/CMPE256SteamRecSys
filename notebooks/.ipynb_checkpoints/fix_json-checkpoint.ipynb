{
 "cells": [
  {
   "cell_type": "markdown",
   "metadata": {},
   "source": [
    "## Fix the raw Json file  to be able to load directly in Python"
   ]
  },
  {
   "cell_type": "markdown",
   "metadata": {},
   "source": [
    "- Raw data is downloaded from https://cseweb.ucsd.edu/~jmcauley/datasets.html#steam_data\n",
    "- Code to fix json file is adapted from: https://github.com/bcc008/ucsd-dse-capstone-c4g4/blob/master/lib/fix_raw_data.py"
   ]
  },
  {
   "cell_type": "code",
   "execution_count": 1,
   "metadata": {},
   "outputs": [],
   "source": [
    "import json"
   ]
  },
  {
   "cell_type": "code",
   "execution_count": 2,
   "metadata": {},
   "outputs": [],
   "source": [
    "file_path = '../data/'\n",
    "file_names = ['australian_user_reviews', 'australian_users_items', 'bundle_data', 'steam_games']"
   ]
  },
  {
   "cell_type": "code",
   "execution_count": 3,
   "metadata": {},
   "outputs": [],
   "source": [
    "def eval_and_redump(text):\n",
    "    file = open(file_path+text+'.json','r')\n",
    "    write = open(file_path+text+'_fixed.json','w')\n",
    "    array = []\n",
    "    for line in file:\n",
    "        line_dict = eval(line)\n",
    "        array.append(line_dict)\n",
    "    json.dump(array,write)\n",
    "    return None"
   ]
  },
  {
   "cell_type": "code",
   "execution_count": 4,
   "metadata": {},
   "outputs": [],
   "source": [
    "for name in file_names:\n",
    "    eval_and_redump(name)"
   ]
  },
  {
   "cell_type": "code",
   "execution_count": null,
   "metadata": {},
   "outputs": [],
   "source": []
  }
 ],
 "metadata": {
  "kernelspec": {
   "display_name": "Python 3",
   "language": "python",
   "name": "python3"
  },
  "language_info": {
   "codemirror_mode": {
    "name": "ipython",
    "version": 3
   },
   "file_extension": ".py",
   "mimetype": "text/x-python",
   "name": "python",
   "nbconvert_exporter": "python",
   "pygments_lexer": "ipython3",
   "version": "3.8.3"
  }
 },
 "nbformat": 4,
 "nbformat_minor": 4
}
