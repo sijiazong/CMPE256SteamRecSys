{
 "cells": [
  {
   "cell_type": "code",
   "execution_count": 1,
   "metadata": {
    "scrolled": true
   },
   "outputs": [],
   "source": [
    "import pandas as pd\n",
    "import numpy as np\n",
    "import time\n",
    "import os.path as path\n",
    "from ast import literal_eval\n",
    "from itertools import product\n",
    "import matplotlib.pyplot as plt"
   ]
  },
  {
   "cell_type": "code",
   "execution_count": 2,
   "metadata": {},
   "outputs": [
    {
     "name": "stderr",
     "output_type": "stream",
     "text": [
      "/Users/sijiazong/opt/anaconda3/lib/python3.8/site-packages/lightfm/_lightfm_fast.py:9: UserWarning: LightFM was compiled without OpenMP support. Only a single thread will be used.\n",
      "  warnings.warn('LightFM was compiled without OpenMP support. '\n"
     ]
    }
   ],
   "source": [
    "# pip install lightfm\n",
    "from lightfm import LightFM\n",
    "from lightfm.data import Dataset\n",
    "from lightfm.cross_validation import random_train_test_split\n",
    "from lightfm.evaluation import precision_at_k\n",
    "from lightfm.evaluation import auc_score"
   ]
  },
  {
   "cell_type": "markdown",
   "metadata": {},
   "source": [
    "## Prepare datasets(user_item_ratings, game_metadata, game_id_name_pairs)"
   ]
  },
  {
   "cell_type": "markdown",
   "metadata": {},
   "source": [
    "- User item ratings"
   ]
  },
  {
   "cell_type": "code",
   "execution_count": 3,
   "metadata": {
    "scrolled": true
   },
   "outputs": [],
   "source": [
    "user_item_df = pd.read_csv(\"../processed_data/ratings.csv\")"
   ]
  },
  {
   "cell_type": "code",
   "execution_count": 4,
   "metadata": {},
   "outputs": [
    {
     "name": "stdout",
     "output_type": "stream",
     "text": [
      "There are 70329 unique users and 10974 unique items in user item ratings\n"
     ]
    }
   ],
   "source": [
    "print(\"There are {} unique users and {} unique items in user item ratings\".format(user_item_df.user_id.nunique(), user_item_df.item_id.nunique()))"
   ]
  },
  {
   "cell_type": "code",
   "execution_count": 5,
   "metadata": {
    "scrolled": false
   },
   "outputs": [
    {
     "data": {
      "text/plain": [
       "<matplotlib.axes._subplots.AxesSubplot at 0x7fdef08aa6d0>"
      ]
     },
     "execution_count": 5,
     "metadata": {},
     "output_type": "execute_result"
    },
    {
     "data": {
      "image/png": "[encoded data removed]",
      "text/plain": [
       "<Figure size 432x288 with 1 Axes>"
      ]
     },
     "metadata": {
      "needs_background": "light"
     },
     "output_type": "display_data"
    }
   ],
   "source": [
    "pd.value_counts(user_item_df['rating']).plot(kind=\"bar\")"
   ]
  },
  {
   "cell_type": "markdown",
   "metadata": {},
   "source": [
    "- Games Metadata"
   ]
  },
  {
   "cell_type": "code",
   "execution_count": 6,
   "metadata": {
    "scrolled": true
   },
   "outputs": [],
   "source": [
    "games = pd.read_csv(\"../processed_data/games_metadata.csv\")"
   ]
  },
  {
   "cell_type": "markdown",
   "metadata": {},
   "source": [
    "- All game id/name pair in both metadata/useritem pair"
   ]
  },
  {
   "cell_type": "code",
   "execution_count": 7,
   "metadata": {},
   "outputs": [],
   "source": [
    "all_games = pd.read_csv(\"../processed_data/all_games_id_name_pair.csv\")"
   ]
  },
  {
   "cell_type": "markdown",
   "metadata": {},
   "source": [
    "## Building functions to generate item features data"
   ]
  },
  {
   "cell_type": "code",
   "execution_count": 8,
   "metadata": {
    "scrolled": true
   },
   "outputs": [
    {
     "data": {
      "text/html": [
       "<div>\n",
       "<style scoped>\n",
       "    .dataframe tbody tr th:only-of-type {\n",
       "        vertical-align: middle;\n",
       "    }\n",
       "\n",
       "    .dataframe tbody tr th {\n",
       "        vertical-align: top;\n",
       "    }\n",
       "\n",
       "    .dataframe thead th {\n",
       "        text-align: right;\n",
       "    }\n",
       "</style>\n",
       "<table border=\"1\" class=\"dataframe\">\n",
       "  <thead>\n",
       "    <tr style=\"text-align: right;\">\n",
       "      <th></th>\n",
       "      <th>publisher</th>\n",
       "      <th>developer</th>\n",
       "      <th>genres</th>\n",
       "      <th>tags</th>\n",
       "      <th>specs</th>\n",
       "      <th>bundles</th>\n",
       "      <th>price_category</th>\n",
       "      <th>price</th>\n",
       "      <th>release_year</th>\n",
       "    </tr>\n",
       "  </thead>\n",
       "  <tbody>\n",
       "    <tr>\n",
       "      <th>0</th>\n",
       "      <td>Kotoshiro</td>\n",
       "      <td>Kotoshiro</td>\n",
       "      <td>['Action', 'Casual', 'Indie', 'Simulation', 'S...</td>\n",
       "      <td>['Strategy', 'Action', 'Indie', 'Casual', 'Sim...</td>\n",
       "      <td>['Single-player']</td>\n",
       "      <td>NaN</td>\n",
       "      <td>Low</td>\n",
       "      <td>4.99</td>\n",
       "      <td>2018.0</td>\n",
       "    </tr>\n",
       "    <tr>\n",
       "      <th>1</th>\n",
       "      <td>Making Fun, Inc.</td>\n",
       "      <td>Secret Level SRL</td>\n",
       "      <td>['Free to Play', 'Indie', 'RPG', 'Strategy']</td>\n",
       "      <td>['Free to Play', 'Strategy', 'Indie', 'RPG', '...</td>\n",
       "      <td>['Single-player', 'Multi-player', 'Online Mult...</td>\n",
       "      <td>NaN</td>\n",
       "      <td>Free</td>\n",
       "      <td>0.00</td>\n",
       "      <td>2018.0</td>\n",
       "    </tr>\n",
       "    <tr>\n",
       "      <th>2</th>\n",
       "      <td>Poolians.com</td>\n",
       "      <td>Poolians.com</td>\n",
       "      <td>['Casual', 'Free to Play', 'Indie', 'Simulatio...</td>\n",
       "      <td>['Free to Play', 'Simulation', 'Sports', 'Casu...</td>\n",
       "      <td>['Single-player', 'Multi-player', 'Online Mult...</td>\n",
       "      <td>NaN</td>\n",
       "      <td>Free</td>\n",
       "      <td>0.00</td>\n",
       "      <td>2017.0</td>\n",
       "    </tr>\n",
       "    <tr>\n",
       "      <th>3</th>\n",
       "      <td>彼岸领域</td>\n",
       "      <td>彼岸领域</td>\n",
       "      <td>['Action', 'Adventure', 'Casual']</td>\n",
       "      <td>['Action', 'Adventure', 'Casual']</td>\n",
       "      <td>['Single-player']</td>\n",
       "      <td>NaN</td>\n",
       "      <td>Low</td>\n",
       "      <td>0.99</td>\n",
       "      <td>2017.0</td>\n",
       "    </tr>\n",
       "    <tr>\n",
       "      <th>4</th>\n",
       "      <td>NaN</td>\n",
       "      <td>NaN</td>\n",
       "      <td>NaN</td>\n",
       "      <td>['Action', 'Indie', 'Casual', 'Sports']</td>\n",
       "      <td>['Single-player', 'Full controller support', '...</td>\n",
       "      <td>NaN</td>\n",
       "      <td>Low</td>\n",
       "      <td>2.99</td>\n",
       "      <td>NaN</td>\n",
       "    </tr>\n",
       "    <tr>\n",
       "      <th>...</th>\n",
       "      <td>...</td>\n",
       "      <td>...</td>\n",
       "      <td>...</td>\n",
       "      <td>...</td>\n",
       "      <td>...</td>\n",
       "      <td>...</td>\n",
       "      <td>...</td>\n",
       "      <td>...</td>\n",
       "      <td>...</td>\n",
       "    </tr>\n",
       "    <tr>\n",
       "      <th>32126</th>\n",
       "      <td>Ghost_RUS Games</td>\n",
       "      <td>Nikita \"Ghost_RUS\"</td>\n",
       "      <td>['Casual', 'Indie', 'Simulation', 'Strategy']</td>\n",
       "      <td>['Strategy', 'Indie', 'Casual', 'Simulation']</td>\n",
       "      <td>['Single-player', 'Steam Achievements']</td>\n",
       "      <td>NaN</td>\n",
       "      <td>Low</td>\n",
       "      <td>1.99</td>\n",
       "      <td>2018.0</td>\n",
       "    </tr>\n",
       "    <tr>\n",
       "      <th>32127</th>\n",
       "      <td>Sacada</td>\n",
       "      <td>Sacada</td>\n",
       "      <td>['Casual', 'Indie', 'Strategy']</td>\n",
       "      <td>['Strategy', 'Indie', 'Casual']</td>\n",
       "      <td>['Single-player', 'Steam Achievements', 'Steam...</td>\n",
       "      <td>NaN</td>\n",
       "      <td>Low</td>\n",
       "      <td>4.99</td>\n",
       "      <td>2018.0</td>\n",
       "    </tr>\n",
       "    <tr>\n",
       "      <th>32128</th>\n",
       "      <td>Laush Studio</td>\n",
       "      <td>Laush Dmitriy Sergeevich</td>\n",
       "      <td>['Indie', 'Racing', 'Simulation']</td>\n",
       "      <td>['Indie', 'Simulation', 'Racing']</td>\n",
       "      <td>['Single-player', 'Steam Achievements', 'Steam...</td>\n",
       "      <td>NaN</td>\n",
       "      <td>Low</td>\n",
       "      <td>1.99</td>\n",
       "      <td>2018.0</td>\n",
       "    </tr>\n",
       "    <tr>\n",
       "      <th>32129</th>\n",
       "      <td>SIXNAILS</td>\n",
       "      <td>xropi,stev3ns</td>\n",
       "      <td>['Casual', 'Indie']</td>\n",
       "      <td>['Indie', 'Casual', 'Puzzle', 'Singleplayer', ...</td>\n",
       "      <td>['Single-player', 'Steam Achievements', 'Steam...</td>\n",
       "      <td>NaN</td>\n",
       "      <td>Low</td>\n",
       "      <td>4.99</td>\n",
       "      <td>2017.0</td>\n",
       "    </tr>\n",
       "    <tr>\n",
       "      <th>32130</th>\n",
       "      <td>NaN</td>\n",
       "      <td>NaN</td>\n",
       "      <td>NaN</td>\n",
       "      <td>['Early Access', 'Adventure', 'Indie', 'Action...</td>\n",
       "      <td>['Single-player', 'Stats', 'Steam Leaderboards...</td>\n",
       "      <td>NaN</td>\n",
       "      <td>Low</td>\n",
       "      <td>4.99</td>\n",
       "      <td>NaN</td>\n",
       "    </tr>\n",
       "  </tbody>\n",
       "</table>\n",
       "<p>32131 rows × 9 columns</p>\n",
       "</div>"
      ],
      "text/plain": [
       "              publisher                 developer  \\\n",
       "0             Kotoshiro                 Kotoshiro   \n",
       "1      Making Fun, Inc.          Secret Level SRL   \n",
       "2          Poolians.com              Poolians.com   \n",
       "3                  彼岸领域                      彼岸领域   \n",
       "4                   NaN                       NaN   \n",
       "...                 ...                       ...   \n",
       "32126   Ghost_RUS Games        Nikita \"Ghost_RUS\"   \n",
       "32127            Sacada                    Sacada   \n",
       "32128      Laush Studio  Laush Dmitriy Sergeevich   \n",
       "32129          SIXNAILS             xropi,stev3ns   \n",
       "32130               NaN                       NaN   \n",
       "\n",
       "                                                  genres  \\\n",
       "0      ['Action', 'Casual', 'Indie', 'Simulation', 'S...   \n",
       "1           ['Free to Play', 'Indie', 'RPG', 'Strategy']   \n",
       "2      ['Casual', 'Free to Play', 'Indie', 'Simulatio...   \n",
       "3                      ['Action', 'Adventure', 'Casual']   \n",
       "4                                                    NaN   \n",
       "...                                                  ...   \n",
       "32126      ['Casual', 'Indie', 'Simulation', 'Strategy']   \n",
       "32127                    ['Casual', 'Indie', 'Strategy']   \n",
       "32128                  ['Indie', 'Racing', 'Simulation']   \n",
       "32129                                ['Casual', 'Indie']   \n",
       "32130                                                NaN   \n",
       "\n",
       "                                                    tags  \\\n",
       "0      ['Strategy', 'Action', 'Indie', 'Casual', 'Sim...   \n",
       "1      ['Free to Play', 'Strategy', 'Indie', 'RPG', '...   \n",
       "2      ['Free to Play', 'Simulation', 'Sports', 'Casu...   \n",
       "3                      ['Action', 'Adventure', 'Casual']   \n",
       "4                ['Action', 'Indie', 'Casual', 'Sports']   \n",
       "...                                                  ...   \n",
       "32126      ['Strategy', 'Indie', 'Casual', 'Simulation']   \n",
       "32127                    ['Strategy', 'Indie', 'Casual']   \n",
       "32128                  ['Indie', 'Simulation', 'Racing']   \n",
       "32129  ['Indie', 'Casual', 'Puzzle', 'Singleplayer', ...   \n",
       "32130  ['Early Access', 'Adventure', 'Indie', 'Action...   \n",
       "\n",
       "                                                   specs bundles  \\\n",
       "0                                      ['Single-player']     NaN   \n",
       "1      ['Single-player', 'Multi-player', 'Online Mult...     NaN   \n",
       "2      ['Single-player', 'Multi-player', 'Online Mult...     NaN   \n",
       "3                                      ['Single-player']     NaN   \n",
       "4      ['Single-player', 'Full controller support', '...     NaN   \n",
       "...                                                  ...     ...   \n",
       "32126            ['Single-player', 'Steam Achievements']     NaN   \n",
       "32127  ['Single-player', 'Steam Achievements', 'Steam...     NaN   \n",
       "32128  ['Single-player', 'Steam Achievements', 'Steam...     NaN   \n",
       "32129  ['Single-player', 'Steam Achievements', 'Steam...     NaN   \n",
       "32130  ['Single-player', 'Stats', 'Steam Leaderboards...     NaN   \n",
       "\n",
       "      price_category  price  release_year  \n",
       "0                Low   4.99        2018.0  \n",
       "1               Free   0.00        2018.0  \n",
       "2               Free   0.00        2017.0  \n",
       "3                Low   0.99        2017.0  \n",
       "4                Low   2.99           NaN  \n",
       "...              ...    ...           ...  \n",
       "32126            Low   1.99        2018.0  \n",
       "32127            Low   4.99        2018.0  \n",
       "32128            Low   1.99        2018.0  \n",
       "32129            Low   4.99        2017.0  \n",
       "32130            Low   4.99           NaN  \n",
       "\n",
       "[32131 rows x 9 columns]"
      ]
     },
     "execution_count": 8,
     "metadata": {},
     "output_type": "execute_result"
    }
   ],
   "source": [
    "# view list of features for consideration\n",
    "# Unique values for features\n",
    "# price_category: 4\n",
    "# price: 145\n",
    "# specs: 40\n",
    "# genres: 22\n",
    "# tags: 339\n",
    "# genres + specs: 62(genres and specs are uniquely different)\n",
    "# genres + tags: 342(a lot of tags are in genres)\n",
    "# release_year: 43\n",
    "# bundles: 567\n",
    "games[['publisher', 'developer', 'genres', 'tags', 'specs', 'bundles', 'price_category', 'price', 'release_year']]"
   ]
  },
  {
   "cell_type": "code",
   "execution_count": 9,
   "metadata": {
    "scrolled": true
   },
   "outputs": [],
   "source": [
    "def build_game_features_list(item_features_cols):\n",
    "    total_features = set()\n",
    "    game_features_list = []\n",
    "    for row in games.itertuples(index=False):\n",
    "        features = set()\n",
    "        for col in item_features_cols:\n",
    "            val = getattr(row, col)\n",
    "            if pd.isnull(val):\n",
    "                continue\n",
    "            if col in {\"genres\", \"tags\", \"specs\", \"bundles\"}:\n",
    "                features.update(literal_eval(val))\n",
    "            else:\n",
    "                features.add(val)\n",
    "        game_features_list.append(list(features))\n",
    "        total_features.update(features)\n",
    "    return game_features_list, list(total_features)"
   ]
  },
  {
   "cell_type": "code",
   "execution_count": 10,
   "metadata": {},
   "outputs": [],
   "source": [
    "def getGameFeaturesData(item_features_cols):\n",
    "    game_features_list, total_features = build_game_features_list(item_features_cols)\n",
    "    game_tuple = list(zip(games.id, game_features_list))\n",
    "    return (total_features, game_tuple)"
   ]
  },
  {
   "cell_type": "markdown",
   "metadata": {},
   "source": [
    "## Building lightFM model"
   ]
  },
  {
   "cell_type": "markdown",
   "metadata": {},
   "source": [
    "### 1. Building dataset, create interactions matrix, user featurer and split interactions matrix into train/test"
   ]
  },
  {
   "cell_type": "markdown",
   "metadata": {},
   "source": [
    "**Hybrid(Collaborative Filtering with item features)**"
   ]
  },
  {
   "cell_type": "markdown",
   "metadata": {},
   "source": [
    "- Create features data"
   ]
  },
  {
   "cell_type": "code",
   "execution_count": 11,
   "metadata": {
    "scrolled": true
   },
   "outputs": [
    {
     "data": {
      "text/plain": [
       "22"
      ]
     },
     "execution_count": 11,
     "metadata": {},
     "output_type": "execute_result"
    }
   ],
   "source": [
    "# Features1(['genres'])\n",
    "item_features_cols1 = ['genres']\n",
    "total_features1, game_tuple1 = getGameFeaturesData(item_features_cols1)\n",
    "len(total_features1)"
   ]
  },
  {
   "cell_type": "code",
   "execution_count": 12,
   "metadata": {},
   "outputs": [
    {
     "data": {
      "text/plain": [
       "589"
      ]
     },
     "execution_count": 12,
     "metadata": {},
     "output_type": "execute_result"
    }
   ],
   "source": [
    "# Features2(['genres', 'bundles'])\n",
    "item_features_cols2 = ['genres', 'bundles']\n",
    "total_features2, game_tuple2 = getGameFeaturesData(item_features_cols2)\n",
    "len(total_features2)"
   ]
  },
  {
   "cell_type": "code",
   "execution_count": 13,
   "metadata": {
    "scrolled": true
   },
   "outputs": [
    {
     "data": {
      "text/plain": [
       "210"
      ]
     },
     "execution_count": 13,
     "metadata": {},
     "output_type": "execute_result"
    }
   ],
   "source": [
    "# Features3(['genres', 'price', 'release_year'])\n",
    "item_features_cols3 = ['genres', 'price', 'release_year']\n",
    "total_features3, game_tuple3 = getGameFeaturesData(item_features_cols3)\n",
    "len(total_features3)"
   ]
  },
  {
   "cell_type": "code",
   "execution_count": 14,
   "metadata": {
    "scrolled": true
   },
   "outputs": [
    {
     "data": {
      "text/plain": [
       "69"
      ]
     },
     "execution_count": 14,
     "metadata": {},
     "output_type": "execute_result"
    }
   ],
   "source": [
    "# Features4(['genres', 'price_category', 'release_year'])\n",
    "item_features_cols4 = ['genres', 'price_category', 'release_year']\n",
    "total_features4, game_tuple4 = getGameFeaturesData(item_features_cols4)\n",
    "len(total_features4)"
   ]
  },
  {
   "cell_type": "markdown",
   "metadata": {},
   "source": [
    "- Build dataset"
   ]
  },
  {
   "cell_type": "code",
   "execution_count": 15,
   "metadata": {},
   "outputs": [],
   "source": [
    "dataset1 = Dataset()\n",
    "dataset1.fit(user_item_df['user_id'].unique(), # all the steam users\n",
    "            all_games[\"item_id\"], # all steam games\n",
    "            item_features=total_features1)\n",
    "dataset2 = Dataset()\n",
    "dataset2.fit(user_item_df['user_id'].unique(), # all the steam users\n",
    "            all_games[\"item_id\"], # all steam games\n",
    "            item_features=total_features2)\n",
    "dataset3 = Dataset()\n",
    "dataset3.fit(user_item_df['user_id'].unique(), # all the steam users\n",
    "            all_games[\"item_id\"], # all steam games\n",
    "            item_features=total_features3)\n",
    "\n",
    "dataset4 = Dataset()\n",
    "dataset4.fit(user_item_df['user_id'].unique(), # all the steam users\n",
    "            all_games[\"item_id\"], # all steam games\n",
    "            item_features=total_features4)"
   ]
  },
  {
   "cell_type": "markdown",
   "metadata": {},
   "source": [
    "- build interaction matrix"
   ]
  },
  {
   "cell_type": "code",
   "execution_count": 16,
   "metadata": {},
   "outputs": [
    {
     "name": "stdout",
     "output_type": "stream",
     "text": [
      "(70329, 33917)\n",
      "(70329, 33917)\n",
      "(70329, 33917)\n",
      "(70329, 33917)\n"
     ]
    }
   ],
   "source": [
    "# use ratings column as weights\n",
    "(interactions1, weights1) = dataset1.build_interactions([(x[0], x[1], x[2]) for x in user_item_df.values])\n",
    "# (interactions1, weights1) = dataset1.build_interactions([(x[0], x[1]) for x in user_item_df.values])\n",
    "print(interactions1.shape)\n",
    "(interactions2, weights2) = dataset2.build_interactions([(x[0], x[1]) for x in user_item_df.values])\n",
    "print(interactions2.shape)\n",
    "(interactions3, weights3) = dataset3.build_interactions([(x[0], x[1]) for x in user_item_df.values])\n",
    "print(interactions3.shape)\n",
    "(interactions4, weights4) = dataset4.build_interactions([(x[0], x[1]) for x in user_item_df.values])\n",
    "print(interactions4.shape)"
   ]
  },
  {
   "cell_type": "markdown",
   "metadata": {},
   "source": [
    "- build item features"
   ]
  },
  {
   "cell_type": "code",
   "execution_count": 17,
   "metadata": {},
   "outputs": [],
   "source": [
    "item_features1 = dataset1.build_item_features(game_tuple1)\n",
    "item_features2 = dataset2.build_item_features(game_tuple2)\n",
    "item_features3 = dataset3.build_item_features(game_tuple3)\n",
    "item_features4 = dataset4.build_item_features(game_tuple4)"
   ]
  },
  {
   "cell_type": "code",
   "execution_count": 18,
   "metadata": {},
   "outputs": [
    {
     "name": "stdout",
     "output_type": "stream",
     "text": [
      "(33917, 33939)\n",
      "(33917, 34506)\n",
      "(33917, 34122)\n",
      "(33917, 33986)\n"
     ]
    }
   ],
   "source": [
    "print(dataset1.item_features_shape())\n",
    "print(dataset2.item_features_shape())\n",
    "print(dataset3.item_features_shape())\n",
    "print(dataset4.item_features_shape())"
   ]
  },
  {
   "cell_type": "markdown",
   "metadata": {},
   "source": [
    "### 2. Train Test Split"
   ]
  },
  {
   "cell_type": "markdown",
   "metadata": {},
   "source": [
    "- Hybrid"
   ]
  },
  {
   "cell_type": "code",
   "execution_count": 19,
   "metadata": {},
   "outputs": [],
   "source": [
    "train_interactions1, test_interactions1 = random_train_test_split(interactions1, test_percentage=0.2, random_state=np.random.RandomState(3))\n",
    "train_weights1, test_weights1 = random_train_test_split(weights1, test_percentage=0.2, random_state=np.random.RandomState(3))"
   ]
  },
  {
   "cell_type": "code",
   "execution_count": 20,
   "metadata": {},
   "outputs": [],
   "source": [
    "train_interactions2, test_interactions2 = random_train_test_split(interactions2, test_percentage=0.2, random_state=np.random.RandomState(3))\n",
    "train_weights2, test_weights2 = random_train_test_split(weights2, test_percentage=0.2, random_state=np.random.RandomState(3))"
   ]
  },
  {
   "cell_type": "code",
   "execution_count": 21,
   "metadata": {},
   "outputs": [],
   "source": [
    "train_interactions3, test_interactions3 = random_train_test_split(interactions3, test_percentage=0.2, random_state=np.random.RandomState(3))\n",
    "train_weights3, test_weights3 = random_train_test_split(weights3, test_percentage=0.2, random_state=np.random.RandomState(3))"
   ]
  },
  {
   "cell_type": "code",
   "execution_count": 22,
   "metadata": {},
   "outputs": [],
   "source": [
    "train_interactions4, test_interactions4 = random_train_test_split(interactions4, test_percentage=0.2, random_state=np.random.RandomState(3))\n",
    "train_weights4, test_weights4 = random_train_test_split(weights4, test_percentage=0.2, random_state=np.random.RandomState(3))"
   ]
  },
  {
   "cell_type": "markdown",
   "metadata": {},
   "source": [
    "### 3. Build, fit and evaluate model in Hyperparameter Search"
   ]
  },
  {
   "cell_type": "markdown",
   "metadata": {},
   "source": [
    "- Hyperparameter Search code is adapted from https://github.com/bcc008/ucsd-dse-capstone-c4g4/blob/master/notebooks/hyperparameter_search.ipynb\n",
    "- Save all hyperparameter search results into csv for later comparision"
   ]
  },
  {
   "cell_type": "code",
   "execution_count": 23,
   "metadata": {},
   "outputs": [],
   "source": [
    "# read hyperparameter search csv\n",
    "if path.exists('lightfm_param_search.csv'):\n",
    "   param_search_df = pd.read_csv('lightfm_param_search.csv')\n",
    "else:\n",
    "   param_search_df = pd.DataFrame()"
   ]
  },
  {
   "cell_type": "code",
   "execution_count": 24,
   "metadata": {
    "scrolled": true
   },
   "outputs": [
    {
     "data": {
      "text/plain": [
       "(124, 21)"
      ]
     },
     "execution_count": 24,
     "metadata": {},
     "output_type": "execute_result"
    }
   ],
   "source": [
    "param_search_df.shape"
   ]
  },
  {
   "cell_type": "code",
   "execution_count": 25,
   "metadata": {},
   "outputs": [],
   "source": [
    "def hyperparameter_search(model_name, parameter_combinations, train_interactions, test_interactions, item_features=None, sample_weight=None, k=10, epochs=5, num_threads=2, verbose=False):\n",
    "    count = 0\n",
    "    for parameters in parameter_combinations:\n",
    "        start_time = time.time()\n",
    "# create model\n",
    "        model = LightFM(**parameters)\n",
    "# fit model\n",
    "        model.fit(train_interactions, \n",
    "                  sample_weight=sample_weight,\n",
    "                  item_features=item_features,\n",
    "                  epochs=epochs,\n",
    "                  num_threads=num_threads)\n",
    "# evaluate model with auc and precision at k\n",
    "        auc_train = auc_score(model, train_interactions, item_features=item_features, num_threads=num_threads).mean()\n",
    "        auc_test = auc_score(model, test_interactions, item_features=item_features, num_threads=num_threads).mean()\n",
    "        precision_train = precision_at_k(model, train_interactions, item_features=item_features, k=k, num_threads=num_threads).mean()\n",
    "        precision_test = precision_at_k(model, test_interactions, item_features=item_features, k=k, num_threads=num_threads).mean()\n",
    "# save model to dict and to datafame\n",
    "        params = model.get_params()\n",
    "        params['model_name'] = model_name\n",
    "        params['auc_train'] = auc_train\n",
    "        params['auc_test'] = auc_test\n",
    "        params['@K'] = k\n",
    "        params['MAP_train'] = precision_train\n",
    "        params['MAP_test'] = precision_test\n",
    "        params['epochs'] = epochs\n",
    "        params['time'] = time.time() - start_time\n",
    "        global param_search_df\n",
    "        param_search_df = param_search_df.append(params, ignore_index=True)\n",
    "        count += 1\n",
    "        if verbose==True:\n",
    "            print('Training complete for {} set of parameters. Time taken: {}'.format(count, params['time']))"
   ]
  },
  {
   "cell_type": "code",
   "execution_count": 26,
   "metadata": {},
   "outputs": [],
   "source": [
    "def getParameterCombinations(possible_parameters):\n",
    "    return [dict(zip(possible_parameters.keys(), values)) for values in product(*possible_parameters.values())]"
   ]
  },
  {
   "cell_type": "markdown",
   "metadata": {},
   "source": [
    "- Create parameters space to search"
   ]
  },
  {
   "cell_type": "code",
   "execution_count": 27,
   "metadata": {},
   "outputs": [],
   "source": [
    "possible_parameters_hybrid = {\n",
    "                        'no_components': np.arange(50, 110, 10),\n",
    "#                         'no_components': np.arange(20, 90, 10),\n",
    "#                         'learning_schedule': ['adagrad', 'adadelta'],\n",
    "                        'loss': ['warp'],\n",
    "#                         'loss': ['bpr','warp'],\n",
    "                        'learning_rate': [0.1],\n",
    "#                         'learning_rate': [0.01, 0.05, 0.1, 0.11, 0.2],\n",
    "#                         'item_alpha': [0, 0.05, 0.1],\n",
    "                        'random_state': [1]\n",
    "                        }"
   ]
  },
  {
   "cell_type": "code",
   "execution_count": 28,
   "metadata": {
    "scrolled": false
   },
   "outputs": [
    {
     "data": {
      "text/plain": [
       "[{'no_components': 50,\n",
       "  'loss': 'warp',\n",
       "  'learning_rate': 0.1,\n",
       "  'random_state': 1},\n",
       " {'no_components': 60,\n",
       "  'loss': 'warp',\n",
       "  'learning_rate': 0.1,\n",
       "  'random_state': 1},\n",
       " {'no_components': 70,\n",
       "  'loss': 'warp',\n",
       "  'learning_rate': 0.1,\n",
       "  'random_state': 1},\n",
       " {'no_components': 80,\n",
       "  'loss': 'warp',\n",
       "  'learning_rate': 0.1,\n",
       "  'random_state': 1},\n",
       " {'no_components': 90,\n",
       "  'loss': 'warp',\n",
       "  'learning_rate': 0.1,\n",
       "  'random_state': 1},\n",
       " {'no_components': 100,\n",
       "  'loss': 'warp',\n",
       "  'learning_rate': 0.1,\n",
       "  'random_state': 1}]"
      ]
     },
     "execution_count": 28,
     "metadata": {},
     "output_type": "execute_result"
    }
   ],
   "source": [
    "parameter_combinations_hybrid = getParameterCombinations(possible_parameters_hybrid)\n",
    "parameter_combinations_hybrid"
   ]
  },
  {
   "cell_type": "markdown",
   "metadata": {},
   "source": [
    "- Run hyperparameter search"
   ]
  },
  {
   "cell_type": "code",
   "execution_count": 29,
   "metadata": {
    "scrolled": true
   },
   "outputs": [],
   "source": [
    "# hyperparameter_search(\"Hybrid_features1\", parameter_combinations_hybrid, train_interactions1, test_interactions1, item_features=item_features1,verbose=True)"
   ]
  },
  {
   "cell_type": "code",
   "execution_count": 30,
   "metadata": {
    "scrolled": true
   },
   "outputs": [],
   "source": [
    "# hyperparameter_search(\"Hybrid_features1weighted\", parameter_combinations_hybrid, train_interactions1, test_interactions1, sample_weight=train_weights1, item_features=item_features1,verbose=True)"
   ]
  },
  {
   "cell_type": "code",
   "execution_count": 31,
   "metadata": {
    "scrolled": true
   },
   "outputs": [],
   "source": [
    "# hyperparameter_search(\"Hybrid_features2\", parameter_combinations_hybrid, train_interactions2, test_interactions2, item_features=item_features2, verbose=True)"
   ]
  },
  {
   "cell_type": "code",
   "execution_count": 32,
   "metadata": {
    "scrolled": true
   },
   "outputs": [],
   "source": [
    "# hyperparameter_search(\"Hybrid_features3\", parameter_combinations_hybrid, train_interactions3, test_interactions3, item_features=item_features3, verbose=True)"
   ]
  },
  {
   "cell_type": "code",
   "execution_count": 33,
   "metadata": {},
   "outputs": [],
   "source": [
    "# hyperparameter_search(\"Hybrid_features4\", parameter_combinations_hybrid, train_interactions4, test_interactions4, item_features=item_features4, verbose=True)"
   ]
  },
  {
   "cell_type": "markdown",
   "metadata": {},
   "source": [
    "- Save param search result to csv"
   ]
  },
  {
   "cell_type": "code",
   "execution_count": 34,
   "metadata": {},
   "outputs": [],
   "source": [
    "param_search_df.to_csv(\"lightfm_param_search.csv\")"
   ]
  },
  {
   "cell_type": "markdown",
   "metadata": {},
   "source": [
    "- View the search results"
   ]
  },
  {
   "cell_type": "code",
   "execution_count": 35,
   "metadata": {
    "scrolled": true
   },
   "outputs": [
    {
     "data": {
      "text/html": [
       "<div>\n",
       "<style scoped>\n",
       "    .dataframe tbody tr th:only-of-type {\n",
       "        vertical-align: middle;\n",
       "    }\n",
       "\n",
       "    .dataframe tbody tr th {\n",
       "        vertical-align: top;\n",
       "    }\n",
       "\n",
       "    .dataframe thead th {\n",
       "        text-align: right;\n",
       "    }\n",
       "</style>\n",
       "<table border=\"1\" class=\"dataframe\">\n",
       "  <thead>\n",
       "    <tr style=\"text-align: right;\">\n",
       "      <th></th>\n",
       "      <th>@K</th>\n",
       "      <th>MAP_test</th>\n",
       "      <th>MAP_train</th>\n",
       "      <th>auc_test</th>\n",
       "      <th>auc_train</th>\n",
       "      <th>epochs</th>\n",
       "      <th>item_alpha</th>\n",
       "      <th>k</th>\n",
       "      <th>learning_rate</th>\n",
       "      <th>loss</th>\n",
       "      <th>model_name</th>\n",
       "      <th>no_components</th>\n",
       "      <th>random_state</th>\n",
       "    </tr>\n",
       "  </thead>\n",
       "  <tbody>\n",
       "    <tr>\n",
       "      <th>92</th>\n",
       "      <td>10</td>\n",
       "      <td>0.118462</td>\n",
       "      <td>0.458549</td>\n",
       "      <td>0.991068</td>\n",
       "      <td>0.995100</td>\n",
       "      <td>5</td>\n",
       "      <td>0.0</td>\n",
       "      <td>5</td>\n",
       "      <td>0.11</td>\n",
       "      <td>warp</td>\n",
       "      <td>Hybrid_features1</td>\n",
       "      <td>50</td>\n",
       "      <td>RandomState(MT19937)</td>\n",
       "    </tr>\n",
       "    <tr>\n",
       "      <th>70</th>\n",
       "      <td>10</td>\n",
       "      <td>0.118209</td>\n",
       "      <td>0.468132</td>\n",
       "      <td>0.991262</td>\n",
       "      <td>0.995466</td>\n",
       "      <td>5</td>\n",
       "      <td>0.0</td>\n",
       "      <td>5</td>\n",
       "      <td>0.10</td>\n",
       "      <td>warp</td>\n",
       "      <td>Hybrid_features1</td>\n",
       "      <td>80</td>\n",
       "      <td>RandomState(MT19937)</td>\n",
       "    </tr>\n",
       "    <tr>\n",
       "      <th>30</th>\n",
       "      <td>10</td>\n",
       "      <td>0.117958</td>\n",
       "      <td>0.442402</td>\n",
       "      <td>0.991008</td>\n",
       "      <td>0.994125</td>\n",
       "      <td>5</td>\n",
       "      <td>0.0</td>\n",
       "      <td>5</td>\n",
       "      <td>0.05</td>\n",
       "      <td>warp</td>\n",
       "      <td>Hybrid_features1</td>\n",
       "      <td>100</td>\n",
       "      <td>RandomState(MT19937)</td>\n",
       "    </tr>\n",
       "    <tr>\n",
       "      <th>117</th>\n",
       "      <td>10</td>\n",
       "      <td>0.117933</td>\n",
       "      <td>0.441392</td>\n",
       "      <td>0.990843</td>\n",
       "      <td>0.993919</td>\n",
       "      <td>5</td>\n",
       "      <td>0.0</td>\n",
       "      <td>5</td>\n",
       "      <td>0.05</td>\n",
       "      <td>warp</td>\n",
       "      <td>Hybrid_features1weighted</td>\n",
       "      <td>80</td>\n",
       "      <td>RandomState(MT19937)</td>\n",
       "    </tr>\n",
       "    <tr>\n",
       "      <th>16</th>\n",
       "      <td>10</td>\n",
       "      <td>0.117842</td>\n",
       "      <td>0.440840</td>\n",
       "      <td>0.990819</td>\n",
       "      <td>0.993843</td>\n",
       "      <td>5</td>\n",
       "      <td>0.0</td>\n",
       "      <td>5</td>\n",
       "      <td>0.05</td>\n",
       "      <td>warp</td>\n",
       "      <td>Hybrid_features2</td>\n",
       "      <td>65</td>\n",
       "      <td>RandomState(MT19937)</td>\n",
       "    </tr>\n",
       "    <tr>\n",
       "      <th>...</th>\n",
       "      <td>...</td>\n",
       "      <td>...</td>\n",
       "      <td>...</td>\n",
       "      <td>...</td>\n",
       "      <td>...</td>\n",
       "      <td>...</td>\n",
       "      <td>...</td>\n",
       "      <td>...</td>\n",
       "      <td>...</td>\n",
       "      <td>...</td>\n",
       "      <td>...</td>\n",
       "      <td>...</td>\n",
       "      <td>...</td>\n",
       "    </tr>\n",
       "    <tr>\n",
       "      <th>65</th>\n",
       "      <td>10</td>\n",
       "      <td>0.000046</td>\n",
       "      <td>0.000167</td>\n",
       "      <td>0.535281</td>\n",
       "      <td>0.539515</td>\n",
       "      <td>5</td>\n",
       "      <td>0.1</td>\n",
       "      <td>5</td>\n",
       "      <td>0.05</td>\n",
       "      <td>warp</td>\n",
       "      <td>Hybrid_features4</td>\n",
       "      <td>40</td>\n",
       "      <td>RandomState(MT19937)</td>\n",
       "    </tr>\n",
       "    <tr>\n",
       "      <th>69</th>\n",
       "      <td>10</td>\n",
       "      <td>0.000030</td>\n",
       "      <td>0.000085</td>\n",
       "      <td>0.541769</td>\n",
       "      <td>0.553219</td>\n",
       "      <td>5</td>\n",
       "      <td>0.1</td>\n",
       "      <td>5</td>\n",
       "      <td>0.01</td>\n",
       "      <td>warp</td>\n",
       "      <td>Hybrid_features1</td>\n",
       "      <td>80</td>\n",
       "      <td>RandomState(MT19937)</td>\n",
       "    </tr>\n",
       "    <tr>\n",
       "      <th>67</th>\n",
       "      <td>10</td>\n",
       "      <td>0.000028</td>\n",
       "      <td>0.000112</td>\n",
       "      <td>0.540264</td>\n",
       "      <td>0.542294</td>\n",
       "      <td>5</td>\n",
       "      <td>0.1</td>\n",
       "      <td>5</td>\n",
       "      <td>0.05</td>\n",
       "      <td>warp</td>\n",
       "      <td>Hybrid_features4</td>\n",
       "      <td>410</td>\n",
       "      <td>RandomState(MT19937)</td>\n",
       "    </tr>\n",
       "    <tr>\n",
       "      <th>75</th>\n",
       "      <td>10</td>\n",
       "      <td>0.000021</td>\n",
       "      <td>0.000082</td>\n",
       "      <td>0.534148</td>\n",
       "      <td>0.535042</td>\n",
       "      <td>5</td>\n",
       "      <td>0.1</td>\n",
       "      <td>5</td>\n",
       "      <td>0.10</td>\n",
       "      <td>warp</td>\n",
       "      <td>Hybrid_features1</td>\n",
       "      <td>120</td>\n",
       "      <td>RandomState(MT19937)</td>\n",
       "    </tr>\n",
       "    <tr>\n",
       "      <th>73</th>\n",
       "      <td>10</td>\n",
       "      <td>0.000017</td>\n",
       "      <td>0.000086</td>\n",
       "      <td>0.530418</td>\n",
       "      <td>0.543019</td>\n",
       "      <td>5</td>\n",
       "      <td>0.1</td>\n",
       "      <td>5</td>\n",
       "      <td>0.01</td>\n",
       "      <td>warp</td>\n",
       "      <td>Hybrid_features1</td>\n",
       "      <td>120</td>\n",
       "      <td>RandomState(MT19937)</td>\n",
       "    </tr>\n",
       "  </tbody>\n",
       "</table>\n",
       "<p>124 rows × 13 columns</p>\n",
       "</div>"
      ],
      "text/plain": [
       "     @K  MAP_test  MAP_train  auc_test  auc_train  epochs  item_alpha  k  \\\n",
       "92   10  0.118462   0.458549  0.991068   0.995100       5         0.0  5   \n",
       "70   10  0.118209   0.468132  0.991262   0.995466       5         0.0  5   \n",
       "30   10  0.117958   0.442402  0.991008   0.994125       5         0.0  5   \n",
       "117  10  0.117933   0.441392  0.990843   0.993919       5         0.0  5   \n",
       "16   10  0.117842   0.440840  0.990819   0.993843       5         0.0  5   \n",
       "..   ..       ...        ...       ...        ...     ...         ... ..   \n",
       "65   10  0.000046   0.000167  0.535281   0.539515       5         0.1  5   \n",
       "69   10  0.000030   0.000085  0.541769   0.553219       5         0.1  5   \n",
       "67   10  0.000028   0.000112  0.540264   0.542294       5         0.1  5   \n",
       "75   10  0.000021   0.000082  0.534148   0.535042       5         0.1  5   \n",
       "73   10  0.000017   0.000086  0.530418   0.543019       5         0.1  5   \n",
       "\n",
       "     learning_rate  loss                model_name  no_components  \\\n",
       "92            0.11  warp          Hybrid_features1             50   \n",
       "70            0.10  warp          Hybrid_features1             80   \n",
       "30            0.05  warp          Hybrid_features1            100   \n",
       "117           0.05  warp  Hybrid_features1weighted             80   \n",
       "16            0.05  warp          Hybrid_features2             65   \n",
       "..             ...   ...                       ...            ...   \n",
       "65            0.05  warp          Hybrid_features4             40   \n",
       "69            0.01  warp          Hybrid_features1             80   \n",
       "67            0.05  warp          Hybrid_features4            410   \n",
       "75            0.10  warp          Hybrid_features1            120   \n",
       "73            0.01  warp          Hybrid_features1            120   \n",
       "\n",
       "             random_state  \n",
       "92   RandomState(MT19937)  \n",
       "70   RandomState(MT19937)  \n",
       "30   RandomState(MT19937)  \n",
       "117  RandomState(MT19937)  \n",
       "16   RandomState(MT19937)  \n",
       "..                    ...  \n",
       "65   RandomState(MT19937)  \n",
       "69   RandomState(MT19937)  \n",
       "67   RandomState(MT19937)  \n",
       "75   RandomState(MT19937)  \n",
       "73   RandomState(MT19937)  \n",
       "\n",
       "[124 rows x 13 columns]"
      ]
     },
     "execution_count": 35,
     "metadata": {},
     "output_type": "execute_result"
    }
   ],
   "source": [
    "param_search_df.sort_values(by=\"MAP_test\", ascending=False)[['@K', 'MAP_test', 'MAP_train', 'auc_test', 'auc_train','epochs','item_alpha', 'k', 'learning_rate', 'loss',  'model_name',\n",
    "       'no_components', 'random_state']]"
   ]
  },
  {
   "cell_type": "markdown",
   "metadata": {},
   "source": [
    "- Graphs"
   ]
  },
  {
   "cell_type": "code",
   "execution_count": 36,
   "metadata": {},
   "outputs": [],
   "source": [
    "# x1 = param_search_df[(param_search_df.loss==\"warp\") & (param_search_df.model_name==\"Hybrid_features4\")].no_components\n",
    "# y1 = param_search_df[(param_search_df.loss==\"warp\") & (param_search_df.model_name==\"Hybrid_features4\")].MAP_train\n",
    "# plt.plot(x1, y1, label = \"train\")\n",
    "# x2 = param_search_df[(param_search_df.model_name==\"Hybrid_features4\")].no_components\n",
    "# y2 = param_search_df[(param_search_df.model_name==\"Hybrid_features4\")].MAP_test\n",
    "# plt.plot(x2, y2, label = \"test\")\n",
    "# plt.legend()\n",
    "# plt.show()"
   ]
  },
  {
   "cell_type": "markdown",
   "metadata": {},
   "source": [
    "## Fit the best model and Evaluation using MAP@K\n",
    "Mean average precision(MAP)@K and AUC score for train and test"
   ]
  },
  {
   "cell_type": "code",
   "execution_count": 38,
   "metadata": {},
   "outputs": [],
   "source": [
    "# data for best model \n",
    "interactions=interactions1\n",
    "train_interactions, test_interactions = train_interactions1, test_interactions1\n",
    "item_features = item_features1"
   ]
  },
  {
   "cell_type": "code",
   "execution_count": 37,
   "metadata": {},
   "outputs": [],
   "source": [
    "# best parameters for the model\n",
    "best_paramaters = {'no_components': 50, 'loss': 'warp', 'random_state': 1, 'learning_rate': 0.11}"
   ]
  },
  {
   "cell_type": "code",
   "execution_count": 39,
   "metadata": {
    "scrolled": true
   },
   "outputs": [
    {
     "data": {
      "text/plain": [
       "<lightfm.lightfm.LightFM at 0x7fdece487f40>"
      ]
     },
     "execution_count": 39,
     "metadata": {},
     "output_type": "execute_result"
    }
   ],
   "source": [
    "model = LightFM(**best_paramaters)\n",
    "model.fit(train_interactions,\n",
    "          item_features=item_features,\n",
    "          epochs=5)"
   ]
  },
  {
   "cell_type": "code",
   "execution_count": 40,
   "metadata": {
    "scrolled": true
   },
   "outputs": [
    {
     "name": "stdout",
     "output_type": "stream",
     "text": [
      "AUC: train 1.00, test 0.99.\n"
     ]
    }
   ],
   "source": [
    "train_auc = auc_score(model, train_interactions, item_features=item_features).mean()\n",
    "test_auc = auc_score(model, test_interactions, item_features=item_features).mean()"
   ]
  },
  {
   "cell_type": "code",
   "execution_count": 41,
   "metadata": {},
   "outputs": [
    {
     "name": "stdout",
     "output_type": "stream",
     "text": [
      "Precision: train 0.46, test 0.12.\n"
     ]
    }
   ],
   "source": [
    "train_precision = precision_at_k(model, train_interactions, item_features=item_features, k=10).mean()\n",
    "test_precision = precision_at_k(model, test_interactions, item_features=item_features, k=10).mean()"
   ]
  },
  {
   "cell_type": "code",
   "execution_count": 60,
   "metadata": {},
   "outputs": [
    {
     "name": "stdout",
     "output_type": "stream",
     "text": [
      "AUC: train 0.995134, test 0.991030.\n",
      "Precision: train 0.457158, test 0.117743.\n"
     ]
    }
   ],
   "source": [
    "print('AUC: train %.6f, test %.6f.' % (train_auc, test_auc))\n",
    "print('Precision: train %.6f, test %.6f.' % (train_precision, test_precision))"
   ]
  },
  {
   "cell_type": "markdown",
   "metadata": {},
   "source": [
    "## Make recommendations"
   ]
  },
  {
   "cell_type": "markdown",
   "metadata": {},
   "source": [
    "- get userid/itemid/features mappings"
   ]
  },
  {
   "cell_type": "code",
   "execution_count": 42,
   "metadata": {},
   "outputs": [],
   "source": [
    "# set the dataset to the final model dataset\n",
    "dataset = dataset1"
   ]
  },
  {
   "cell_type": "code",
   "execution_count": 43,
   "metadata": {},
   "outputs": [],
   "source": [
    "# mappings: (user id map, user feature map, item id map, item feature map)\n",
    "mapping = dataset.mapping()"
   ]
  },
  {
   "cell_type": "code",
   "execution_count": 44,
   "metadata": {
    "scrolled": true
   },
   "outputs": [],
   "source": [
    "# series used to use index(internal id) to locate the real id\n",
    "user_series = pd.Series(mapping[0])\n",
    "item_series = pd.Series(mapping[2])"
   ]
  },
  {
   "cell_type": "code",
   "execution_count": 45,
   "metadata": {},
   "outputs": [],
   "source": [
    "def getInternalId(real_id, series):\n",
    "    return series[real_id]"
   ]
  },
  {
   "cell_type": "code",
   "execution_count": 46,
   "metadata": {},
   "outputs": [],
   "source": [
    "def getRawId(internal_id, series):\n",
    "    return series[series == internal_id].index[0]"
   ]
  },
  {
   "cell_type": "code",
   "execution_count": 78,
   "metadata": {
    "scrolled": true
   },
   "outputs": [
    {
     "data": {
      "text/html": [
       "<div>\n",
       "<style scoped>\n",
       "    .dataframe tbody tr th:only-of-type {\n",
       "        vertical-align: middle;\n",
       "    }\n",
       "\n",
       "    .dataframe tbody tr th {\n",
       "        vertical-align: top;\n",
       "    }\n",
       "\n",
       "    .dataframe thead th {\n",
       "        text-align: right;\n",
       "    }\n",
       "</style>\n",
       "<table border=\"1\" class=\"dataframe\">\n",
       "  <thead>\n",
       "    <tr style=\"text-align: right;\">\n",
       "      <th></th>\n",
       "      <th>user_id</th>\n",
       "      <th>item_id</th>\n",
       "      <th>rating</th>\n",
       "    </tr>\n",
       "  </thead>\n",
       "  <tbody>\n",
       "    <tr>\n",
       "      <th>673</th>\n",
       "      <td>js41637</td>\n",
       "      <td>209000</td>\n",
       "      <td>4</td>\n",
       "    </tr>\n",
       "    <tr>\n",
       "      <th>356</th>\n",
       "      <td>js41637</td>\n",
       "      <td>33230</td>\n",
       "      <td>4</td>\n",
       "    </tr>\n",
       "    <tr>\n",
       "      <th>597</th>\n",
       "      <td>js41637</td>\n",
       "      <td>203160</td>\n",
       "      <td>4</td>\n",
       "    </tr>\n",
       "    <tr>\n",
       "      <th>1122</th>\n",
       "      <td>js41637</td>\n",
       "      <td>427520</td>\n",
       "      <td>4</td>\n",
       "    </tr>\n",
       "    <tr>\n",
       "      <th>922</th>\n",
       "      <td>js41637</td>\n",
       "      <td>241930</td>\n",
       "      <td>4</td>\n",
       "    </tr>\n",
       "    <tr>\n",
       "      <th>...</th>\n",
       "      <td>...</td>\n",
       "      <td>...</td>\n",
       "      <td>...</td>\n",
       "    </tr>\n",
       "    <tr>\n",
       "      <th>602</th>\n",
       "      <td>js41637</td>\n",
       "      <td>227080</td>\n",
       "      <td>1</td>\n",
       "    </tr>\n",
       "    <tr>\n",
       "      <th>612</th>\n",
       "      <td>js41637</td>\n",
       "      <td>22300</td>\n",
       "      <td>1</td>\n",
       "    </tr>\n",
       "    <tr>\n",
       "      <th>616</th>\n",
       "      <td>js41637</td>\n",
       "      <td>224760</td>\n",
       "      <td>1</td>\n",
       "    </tr>\n",
       "    <tr>\n",
       "      <th>623</th>\n",
       "      <td>js41637</td>\n",
       "      <td>57640</td>\n",
       "      <td>1</td>\n",
       "    </tr>\n",
       "    <tr>\n",
       "      <th>1164</th>\n",
       "      <td>js41637</td>\n",
       "      <td>397060</td>\n",
       "      <td>1</td>\n",
       "    </tr>\n",
       "  </tbody>\n",
       "</table>\n",
       "<p>888 rows × 3 columns</p>\n",
       "</div>"
      ],
      "text/plain": [
       "      user_id  item_id  rating\n",
       "673   js41637   209000       4\n",
       "356   js41637    33230       4\n",
       "597   js41637   203160       4\n",
       "1122  js41637   427520       4\n",
       "922   js41637   241930       4\n",
       "...       ...      ...     ...\n",
       "602   js41637   227080       1\n",
       "612   js41637    22300       1\n",
       "616   js41637   224760       1\n",
       "623   js41637    57640       1\n",
       "1164  js41637   397060       1\n",
       "\n",
       "[888 rows x 3 columns]"
      ]
     },
     "execution_count": 78,
     "metadata": {},
     "output_type": "execute_result"
    }
   ],
   "source": [
    "user_item_df[user_item_df.user_id == \"js41637\"].sort_values(by=\"rating\", ascending=False)"
   ]
  },
  {
   "cell_type": "code",
   "execution_count": 48,
   "metadata": {},
   "outputs": [
    {
     "data": {
      "text/plain": [
       "1"
      ]
     },
     "execution_count": 48,
     "metadata": {},
     "output_type": "execute_result"
    }
   ],
   "source": [
    "# raw id to internal id\n",
    "getInternalId(\"js41637\", user_series)"
   ]
  },
  {
   "cell_type": "code",
   "execution_count": 59,
   "metadata": {
    "scrolled": false
   },
   "outputs": [
    {
     "data": {
      "text/plain": [
       "'js41637'"
      ]
     },
     "execution_count": 59,
     "metadata": {},
     "output_type": "execute_result"
    }
   ],
   "source": [
    "getRawId(1, user_series)"
   ]
  },
  {
   "cell_type": "markdown",
   "metadata": {},
   "source": [
    "- Make recommendations"
   ]
  },
  {
   "cell_type": "code",
   "execution_count": 94,
   "metadata": {},
   "outputs": [],
   "source": [
    "def getRecommendataions(user_id):\n",
    "    print(user_id)\n",
    "    n_users, n_items = interactions.shape\n",
    "    internal_user_id = getInternalId(user_id, user_series)\n",
    "    all_scores = pd.Series(model.predict(internal_user_id, np.arange(n_items)))\n",
    "    all_ranks = list(pd.Series(all_scores.sort_values(ascending=False).index))\n",
    "    known_items = user_item_df[user_item_df.user_id == user_id].sort_values(by=\"rating\", ascending=False).item_id\n",
    "    known_items_internal_ids = known_items.apply(getInternalId, args=(item_series,))\n",
    "    unknown_ranks = [x for x in all_ranks if x not in known_items_internal_ids]\n",
    "    recommended_list = unknown_ranks[0:10]\n",
    "    recommended_list_ids = [getRawId(id, item_series) for id in recommended_list]\n",
    "    known_items_names = all_games.loc[all_games['item_id'].isin(known_items[:10])]\n",
    "    recommended_items_names = all_games.loc[all_games['item_id'].isin(recommended_list_ids)]\n",
    "    print(\"Known items:\")\n",
    "    print(known_items_names)\n",
    "    print(\"Recommended items:\")\n",
    "    print(recommended_items_names)"
   ]
  },
  {
   "cell_type": "code",
   "execution_count": 99,
   "metadata": {},
   "outputs": [],
   "source": [
    "user_id = \"js41637\""
   ]
  },
  {
   "cell_type": "code",
   "execution_count": 100,
   "metadata": {},
   "outputs": [
    {
     "name": "stdout",
     "output_type": "stream",
     "text": [
      "js41637\n",
      "Known items:\n",
      "      item_id                       item_name\n",
      "78    33230.0             Assassin's Creed II\n",
      "157   72850.0     The Elder Scrolls V: Skyrim\n",
      "159   57690.0                       Tropico 4\n",
      "194  203160.0                     Tomb Raider\n",
      "210  206420.0                   Saints Row IV\n",
      "221  242050.0  Assassin's Creed IV Black Flag\n",
      "253  241930.0  Middle-earth: Shadow of Mordor\n",
      "445  202170.0                  Sleeping Dogs™\n",
      "563  209000.0         Batman™: Arkham Origins\n",
      "978  427520.0                        Factorio\n",
      "Recommended items:\n",
      "       item_id                    item_name\n",
      "140   105600.0                     Terraria\n",
      "161   113200.0         The Binding of Isaac\n",
      "174   204300.0                 Awesomenauts\n",
      "1295   99900.0               Spiral Knights\n",
      "1360  304930.0                     Unturned\n",
      "1361  211500.0  RaceRoom Racing Experience \n",
      "1478  301520.0                    Robocraft\n",
      "1615  363970.0               Clicker Heroes\n",
      "1918  304050.0                        Trove\n",
      "2842  254440.0                  Pool Nation\n"
     ]
    }
   ],
   "source": [
    "getRecommendataions(user_id)"
   ]
  },
  {
   "cell_type": "code",
   "execution_count": null,
   "metadata": {},
   "outputs": [],
   "source": []
  },
  {
   "cell_type": "code",
   "execution_count": null,
   "metadata": {},
   "outputs": [],
   "source": []
  }
 ],
 "metadata": {
  "kernelspec": {
   "display_name": "Python 3",
   "language": "python",
   "name": "python3"
  },
  "language_info": {
   "codemirror_mode": {
    "name": "ipython",
    "version": 3
   },
   "file_extension": ".py",
   "mimetype": "text/x-python",
   "name": "python",
   "nbconvert_exporter": "python",
   "pygments_lexer": "ipython3",
   "version": "3.8.3"
  }
 },
 "nbformat": 4,
 "nbformat_minor": 4
}
